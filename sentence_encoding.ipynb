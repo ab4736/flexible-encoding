{
 "cells": [
  {
   "cell_type": "code",
   "execution_count": 1,
   "id": "086c60e0",
   "metadata": {},
   "outputs": [],
   "source": [
    "import os\n",
    "import glob\n",
    "import pickle\n",
    "import numpy as np\n",
    "import pandas as pd  \n",
    "import csv\n",
    "import string\n",
    "from scipy.io import savemat\n",
    "from scipy.io import loadmat\n",
    "import matplotlib.pyplot as plt\n",
    "from sklearn.decomposition import PCA\n",
    "from sklearn.preprocessing import normalize\n",
    "from functools import reduce \n",
    "from sklearn.model_selection import KFold\n",
    "from sklearn.linear_model import LinearRegression\n",
    "import seaborn as sns\n",
    "from scipy import stats\n",
    "from scipy.stats import wasserstein_distance\n",
    "from scipy.special import softmax\n",
    "import scipy\n",
    "import math\n",
    "import random\n",
    "import torch\n",
    "from torch.nn import functional as F"
   ]
  },
  {
   "cell_type": "code",
   "execution_count": 44,
   "id": "50443033",
   "metadata": {},
   "outputs": [],
   "source": [
    "os.chdir('/scratch/gpfs/arnab/sentence_encoding/')\n",
    "e=loadmat('sentence_encoding.mat')\n",
    "last_embedding=e['last_embedding'] ## each sentence word gets the embedding of the last word of that sentence\n",
    "elec=np.squeeze(e['Y']) ## elec data for each word\n",
    "last_word_index=e['index_last_word'] #last_word_index (1 if it is the last word, else 0)\n",
    "word_number=np.squeeze(e['word_number']) #word number position for each sentence\n",
    "sentence_number=np.squeeze(e['sentence_number']) #words belonging to which sentence\n",
    "words=e['words'] #all words\n",
    "all_emb=e['all_embedding'] ## all word embedding\n",
    "\n",
    "Y_200=e['Y_200'] ##get neural 200ms data for each word"
   ]
  },
  {
   "cell_type": "code",
   "execution_count": 271,
   "id": "97f859af-3054-435f-83ea-f4dea851b310",
   "metadata": {},
   "outputs": [
    {
     "data": {
      "text/plain": [
       "(4813, 31)"
      ]
     },
     "execution_count": 271,
     "metadata": {},
     "output_type": "execute_result"
    }
   ],
   "source": [
    "np.shape(elec)"
   ]
  },
  {
   "cell_type": "code",
   "execution_count": 214,
   "id": "a59c61e3",
   "metadata": {},
   "outputs": [
    {
     "data": {
      "text/plain": [
       "(4813, 50)"
      ]
     },
     "execution_count": 214,
     "metadata": {},
     "output_type": "execute_result"
    }
   ],
   "source": [
    "np.shape(last_embedding)"
   ]
  },
  {
   "cell_type": "code",
   "execution_count": 89,
   "id": "82db4b8e",
   "metadata": {},
   "outputs": [
    {
     "data": {
      "text/plain": [
       "(4813,)"
      ]
     },
     "execution_count": 89,
     "metadata": {},
     "output_type": "execute_result"
    }
   ],
   "source": [
    "indices=np.where(last_word_index==1)[1]\n",
    "emb=last_embedding[indices,:]\n",
    "Y=elec[indices,:]\n",
    "\n",
    "np.shape(emb)\n",
    "#np.shape(Y)\n",
    "\n",
    "clf_linear=LinearRegression()\n",
    "clf_linear.fit(emb,Y)\n",
    "aa=clf_linear.predict(last_embedding)\n",
    "# aa=clf_linear.predict(all_emb)\n",
    "\n",
    "error=((elec-aa)**2).mean(axis=1)\n",
    "\n",
    "np.shape(error)"
   ]
  },
  {
   "cell_type": "code",
   "execution_count": 217,
   "id": "b58909e6-129f-48e1-a53c-298a32ce7cb2",
   "metadata": {},
   "outputs": [
    {
     "data": {
      "text/plain": [
       "(4813, 31)"
      ]
     },
     "execution_count": 217,
     "metadata": {},
     "output_type": "execute_result"
    }
   ],
   "source": [
    "np.shape(aa)"
   ]
  },
  {
   "cell_type": "code",
   "execution_count": 14,
   "id": "5069a29d",
   "metadata": {},
   "outputs": [
    {
     "name": "stdout",
     "output_type": "stream",
     "text": [
      "2991.6870385328207\n"
     ]
    },
    {
     "data": {
      "text/html": [
       "<div>\n",
       "<style scoped>\n",
       "    .dataframe tbody tr th:only-of-type {\n",
       "        vertical-align: middle;\n",
       "    }\n",
       "\n",
       "    .dataframe tbody tr th {\n",
       "        vertical-align: top;\n",
       "    }\n",
       "\n",
       "    .dataframe thead th {\n",
       "        text-align: right;\n",
       "    }\n",
       "</style>\n",
       "<table border=\"1\" class=\"dataframe\">\n",
       "  <thead>\n",
       "    <tr style=\"text-align: right;\">\n",
       "      <th></th>\n",
       "      <th>error</th>\n",
       "      <th>words</th>\n",
       "    </tr>\n",
       "  </thead>\n",
       "  <tbody>\n",
       "    <tr>\n",
       "      <th>0</th>\n",
       "      <td>5449.083128</td>\n",
       "      <td>And</td>\n",
       "    </tr>\n",
       "    <tr>\n",
       "      <th>1</th>\n",
       "      <td>4739.006506</td>\n",
       "      <td>uh</td>\n",
       "    </tr>\n",
       "    <tr>\n",
       "      <th>2</th>\n",
       "      <td>4920.109070</td>\n",
       "      <td>you</td>\n",
       "    </tr>\n",
       "    <tr>\n",
       "      <th>3</th>\n",
       "      <td>5051.268076</td>\n",
       "      <td>know</td>\n",
       "    </tr>\n",
       "    <tr>\n",
       "      <th>4</th>\n",
       "      <td>4123.204013</td>\n",
       "      <td>I</td>\n",
       "    </tr>\n",
       "    <tr>\n",
       "      <th>5</th>\n",
       "      <td>3715.981757</td>\n",
       "      <td>know</td>\n",
       "    </tr>\n",
       "    <tr>\n",
       "      <th>6</th>\n",
       "      <td>2963.861339</td>\n",
       "      <td>a</td>\n",
       "    </tr>\n",
       "    <tr>\n",
       "      <th>7</th>\n",
       "      <td>2878.028407</td>\n",
       "      <td>little</td>\n",
       "    </tr>\n",
       "    <tr>\n",
       "      <th>8</th>\n",
       "      <td>2066.455514</td>\n",
       "      <td>bit</td>\n",
       "    </tr>\n",
       "    <tr>\n",
       "      <th>9</th>\n",
       "      <td>2574.450234</td>\n",
       "      <td>about</td>\n",
       "    </tr>\n",
       "    <tr>\n",
       "      <th>10</th>\n",
       "      <td>1786.176033</td>\n",
       "      <td>monkey</td>\n",
       "    </tr>\n",
       "    <tr>\n",
       "      <th>11</th>\n",
       "      <td>2563.816855</td>\n",
       "      <td>monkey</td>\n",
       "    </tr>\n",
       "    <tr>\n",
       "      <th>12</th>\n",
       "      <td>3003.465234</td>\n",
       "      <td>etiquette</td>\n",
       "    </tr>\n",
       "    <tr>\n",
       "      <th>13</th>\n",
       "      <td>4317.191923</td>\n",
       "      <td>and</td>\n",
       "    </tr>\n",
       "    <tr>\n",
       "      <th>14</th>\n",
       "      <td>1912.509903</td>\n",
       "      <td>showing</td>\n",
       "    </tr>\n",
       "    <tr>\n",
       "      <th>15</th>\n",
       "      <td>4356.653774</td>\n",
       "      <td>your</td>\n",
       "    </tr>\n",
       "    <tr>\n",
       "      <th>16</th>\n",
       "      <td>3160.119883</td>\n",
       "      <td>teeth</td>\n",
       "    </tr>\n",
       "    <tr>\n",
       "      <th>17</th>\n",
       "      <td>3042.114792</td>\n",
       "      <td>not</td>\n",
       "    </tr>\n",
       "    <tr>\n",
       "      <th>18</th>\n",
       "      <td>2764.421344</td>\n",
       "      <td>to</td>\n",
       "    </tr>\n",
       "    <tr>\n",
       "      <th>19</th>\n",
       "      <td>2316.541321</td>\n",
       "      <td>show</td>\n",
       "    </tr>\n",
       "    <tr>\n",
       "      <th>20</th>\n",
       "      <td>1405.716733</td>\n",
       "      <td>your</td>\n",
       "    </tr>\n",
       "    <tr>\n",
       "      <th>21</th>\n",
       "      <td>1732.370058</td>\n",
       "      <td>teeth,</td>\n",
       "    </tr>\n",
       "    <tr>\n",
       "      <th>22</th>\n",
       "      <td>2177.795855</td>\n",
       "      <td>not</td>\n",
       "    </tr>\n",
       "    <tr>\n",
       "      <th>23</th>\n",
       "      <td>2450.771412</td>\n",
       "      <td>to</td>\n",
       "    </tr>\n",
       "    <tr>\n",
       "      <th>24</th>\n",
       "      <td>3113.408837</td>\n",
       "      <td>stare</td>\n",
       "    </tr>\n",
       "    <tr>\n",
       "      <th>25</th>\n",
       "      <td>2418.747120</td>\n",
       "      <td>them</td>\n",
       "    </tr>\n",
       "    <tr>\n",
       "      <th>26</th>\n",
       "      <td>2805.003956</td>\n",
       "      <td>in</td>\n",
       "    </tr>\n",
       "    <tr>\n",
       "      <th>27</th>\n",
       "      <td>1648.093778</td>\n",
       "      <td>the</td>\n",
       "    </tr>\n",
       "    <tr>\n",
       "      <th>28</th>\n",
       "      <td>1302.557262</td>\n",
       "      <td>face.</td>\n",
       "    </tr>\n",
       "  </tbody>\n",
       "</table>\n",
       "</div>"
      ],
      "text/plain": [
       "          error             words\n",
       "0   5449.083128  And             \n",
       "1   4739.006506  uh              \n",
       "2   4920.109070  you             \n",
       "3   5051.268076  know            \n",
       "4   4123.204013  I               \n",
       "5   3715.981757  know            \n",
       "6   2963.861339  a               \n",
       "7   2878.028407  little          \n",
       "8   2066.455514  bit             \n",
       "9   2574.450234  about           \n",
       "10  1786.176033  monkey          \n",
       "11  2563.816855  monkey          \n",
       "12  3003.465234  etiquette       \n",
       "13  4317.191923  and             \n",
       "14  1912.509903  showing         \n",
       "15  4356.653774  your            \n",
       "16  3160.119883  teeth           \n",
       "17  3042.114792  not             \n",
       "18  2764.421344  to              \n",
       "19  2316.541321  show            \n",
       "20  1405.716733  your            \n",
       "21  1732.370058  teeth,          \n",
       "22  2177.795855  not             \n",
       "23  2450.771412  to              \n",
       "24  3113.408837  stare           \n",
       "25  2418.747120  them            \n",
       "26  2805.003956  in              \n",
       "27  1648.093778  the             \n",
       "28  1302.557262  face.           "
      ]
     },
     "execution_count": 14,
     "metadata": {},
     "output_type": "execute_result"
    }
   ],
   "source": [
    "k=9\n",
    "indices=np.where(sentence_number==k)[1]\n",
    "err=pd.DataFrame()\n",
    "err['error']=error[indices]\n",
    "err['words']=words[indices]\n",
    "print(err['error'].mean())\n",
    "err"
   ]
  },
  {
   "cell_type": "code",
   "execution_count": 97,
   "id": "09e1dc11",
   "metadata": {},
   "outputs": [
    {
     "name": "stdout",
     "output_type": "stream",
     "text": [
      "0.21038114691258325\n",
      "390088.94663177\n"
     ]
    }
   ],
   "source": [
    "## making plot for t+1---t=5\n",
    "t_0_index=(np.where(last_word_index==1)[-1])\n",
    "t_1_index=(np.where(last_word_index==1)[-1])-1\n",
    "t_2_index=(np.where(last_word_index==1)[-1])-2\n",
    "t_3_index=(np.where(last_word_index==1)[-1])-3\n",
    "t_4_index=(np.where(last_word_index==1)[-1])-4\n",
    "t_5_index=(np.where(last_word_index==1)[-1])-5\n",
    "\n",
    "t_0_ecog_pred=aa[t_0_index,:]\n",
    "t_0_ecog_actual=elec[t_0_index,:]\n",
    "\n",
    "t_1_ecog_pred=aa[t_1_index,:]\n",
    "t_1_ecog_actual=elec[t_1_index,:]\n",
    "\n",
    "t_2_ecog_pred=aa[t_2_index,:]\n",
    "t_2_ecog_actual=elec[t_2_index,:]\n",
    "\n",
    "t_3_ecog_pred=aa[t_3_index,:]\n",
    "t_3_ecog_actual=elec[t_3_index,:]\n",
    "\n",
    "t_4_ecog_pred=aa[t_4_index,:]\n",
    "t_4_ecog_actual=elec[t_4_index,:]\n",
    "\n",
    "t_5_ecog_pred=aa[t_5_index,:]\n",
    "t_5_ecog_actual=elec[t_5_index,:]\n",
    "q=[]\n",
    "mse=[]\n",
    "for k in range(np.shape(t_1_ecog_pred)[1]):\n",
    "    q.append(np.corrcoef(t_1_ecog_pred[:,k],t_1_ecog_actual[:,k])[0,1])\n",
    "    mse.append(np.mean((t_2_ecog_pred[:,k] - t_2_ecog_actual[:,k])**2/(t_0_ecog_pred[:,k] - t_0_ecog_actual[:,k])**2))\n",
    "\n",
    "print(np.mean(q))\n",
    "print(np.mean(mse))"
   ]
  },
  {
   "cell_type": "code",
   "execution_count": 91,
   "id": "3d82e957-a4b9-47ec-81f6-18dcddc3de73",
   "metadata": {},
   "outputs": [
    {
     "data": {
      "text/plain": [
       "16287.803023402383"
      ]
     },
     "execution_count": 91,
     "metadata": {},
     "output_type": "execute_result"
    }
   ],
   "source": [
    "mse[0]"
   ]
  },
  {
   "cell_type": "code",
   "execution_count": 85,
   "id": "d44b34a9-4ba5-4977-b3ee-ca09587db607",
   "metadata": {},
   "outputs": [
    {
     "data": {
      "text/plain": [
       "5098.216445383386"
      ]
     },
     "execution_count": 85,
     "metadata": {},
     "output_type": "execute_result"
    }
   ],
   "source": [
    "k=0\n",
    "np.mean((t_1_ecog_pred[:,k] - t_1_ecog_actual[:,k])**2/(t_0_ecog_pred[:,k] - t_0_ecog_actual[:,k])**2)"
   ]
  },
  {
   "cell_type": "code",
   "execution_count": 240,
   "id": "2586c58a-7f5e-47f0-a3f4-c9e3e720609e",
   "metadata": {},
   "outputs": [
    {
     "data": {
      "text/plain": [
       "array([ 15,  36,  50,  71, 106, 118])"
      ]
     },
     "execution_count": 240,
     "metadata": {},
     "output_type": "execute_result"
    }
   ],
   "source": [
    "t_1_index[0:6]"
   ]
  },
  {
   "cell_type": "code",
   "execution_count": 236,
   "id": "e7675180-a86f-4c91-8c4e-c5a835faf7f8",
   "metadata": {},
   "outputs": [
    {
     "data": {
      "text/plain": [
       "array([ 16,  37,  51,  72, 107, 119])"
      ]
     },
     "execution_count": 236,
     "metadata": {},
     "output_type": "execute_result"
    }
   ],
   "source": [
    "indices[0:6]"
   ]
  },
  {
   "cell_type": "code",
   "execution_count": 310,
   "id": "9999c84d-90e3-4b58-bf2d-1731f0e0da38",
   "metadata": {},
   "outputs": [
    {
     "name": "stdout",
     "output_type": "stream",
     "text": [
      "Fold: 0\n",
      "(1155, 31)\n",
      "-0.009579864286064325\n",
      "Fold: 1\n",
      "(1260, 31)\n",
      "0.04498623203760825\n",
      "Fold: 2\n",
      "(1359, 31)\n",
      "-0.0012717918350811754\n",
      "Fold: 3\n",
      "(1039, 31)\n",
      "-0.03181986022315012\n"
     ]
    }
   ],
   "source": [
    "## doing based on cv\n",
    "\n",
    "indices=np.where(last_word_index==1)[1]\n",
    "\n",
    "\n",
    "# np.shape(emb)\n",
    "cv=4\n",
    "kf = KFold(n_splits=cv)\n",
    "p=0\n",
    "\n",
    "for train_index, test_index in kf.split(indices):\n",
    "\n",
    "        print('Fold:',p)\n",
    "        # print(train_index[0])\n",
    "        # print(train_index[-1])\n",
    "        # print(test_index[0])\n",
    "        # print(test_index[-1])\n",
    "\n",
    "        emb_train=last_embedding[indices[train_index],:]\n",
    "        Y_train=elec[indices[train_index],:]\n",
    "\n",
    "        s=(sentence_number[indices[test_index]])\n",
    "        ind=[]\n",
    "        s1=[ind.extend(np.where(sentence_number==x)[0]) for x in s]\n",
    "\n",
    "        emb_test=last_embedding[ind,:]\n",
    "        Y_test=elec[ind,:]\n",
    "\n",
    "        clf_linear=LinearRegression()\n",
    "        clf_linear.fit(emb_train,Y_train)\n",
    "        aa=clf_linear.predict(emb_test)\n",
    "\n",
    "        print(np.shape(aa))\n",
    "\n",
    "        ind2=[]\n",
    "        s11=[ind2.extend(np.where(ind==x)[0]) for x in indices[test_index]]\n",
    "\n",
    "        t_1_index=np.asarray(ind2)-1\n",
    "        t_2_index=np.asarray(ind2)-2\n",
    "        t_1_index=np.asarray(ind2)-3\n",
    "        t_4_index=np.asarray(ind2)-4\n",
    "        t_5_index=np.asarray(ind2)-5\n",
    "\n",
    "        t_1_ecog_pred=aa[t_1_index,:]\n",
    "        t_1_ecog_actual=Y_test[t_1_index,:]\n",
    "\n",
    "        q=[]\n",
    "        for k in range(np.shape(t_1_ecog_pred)[1]):\n",
    "            q.append(np.corrcoef(t_1_ecog_pred[:,k],t_1_ecog_actual[:,k])[0,1])\n",
    "\n",
    "        print(np.mean(q))\n",
    "\n",
    "    \n",
    "        \n",
    "        \n",
    "        p=p+1\n",
    "\n",
    "# len(indices)\n",
    "\n",
    "        "
   ]
  },
  {
   "cell_type": "code",
   "execution_count": null,
   "id": "c58c7a1e-5aba-4696-8f13-b3e42e3fb094",
   "metadata": {},
   "outputs": [],
   "source": []
  },
  {
   "cell_type": "code",
   "execution_count": 308,
   "id": "0782ce18-57c8-48c4-87fa-dddfb131263f",
   "metadata": {},
   "outputs": [
    {
     "name": "stdout",
     "output_type": "stream",
     "text": [
      "Fold: 0\n",
      "(942, 31)\n",
      "-0.030675004485347514\n",
      "Fold: 1\n",
      "(916, 31)\n",
      "0.09200514476325386\n",
      "Fold: 2\n",
      "(1068, 31)\n",
      "0.024660331910262366\n",
      "Fold: 3\n",
      "(1053, 31)\n",
      "0.08594137435260236\n",
      "Fold: 4\n",
      "(834, 31)\n",
      "0.15750897728892935\n"
     ]
    }
   ],
   "source": [
    "indices=np.where(last_word_index==1)[1]\n",
    "\n",
    "cv=5\n",
    "kf = KFold(n_splits=cv)\n",
    "p=0\n",
    "\n",
    "ind_good=[ 0,  3,  4,  8, 17, 19, 21]#[1,  3,  4,  5, 12, 15, 16, 26]#\n",
    "\n",
    "for train_index, test_index in kf.split(indices):\n",
    "\n",
    "        print('Fold:',p)\n",
    "        # print(train_index[0])\n",
    "        # print(train_index[-1])\n",
    "        # print(test_index[0])\n",
    "        # print(test_index[-1])\n",
    "\n",
    "        s=(sentence_number[indices[train_index]])\n",
    "        ind=[]\n",
    "        s1=[ind.extend(np.where(sentence_number==x)[0]) for x in s]\n",
    "        # break\n",
    "        emb_train=all_emb[ind,:]\n",
    "        Y_train=elec[ind,:]\n",
    "        del s1\n",
    "        del s\n",
    "        s=(sentence_number[indices[test_index]])\n",
    "        ind=[]\n",
    "        s1=[ind.extend(np.where(sentence_number==x)[0]) for x in s]\n",
    "        \n",
    "        del s1\n",
    "        del s\n",
    "\n",
    "        emb_test=last_embedding[ind,:]\n",
    "        Y_test=elec[ind,:]\n",
    "\n",
    "        clf_linear=LinearRegression()\n",
    "        clf_linear.fit(emb_train,Y_train)\n",
    "        aa=clf_linear.predict(emb_test)\n",
    "\n",
    "        print(np.shape(aa))\n",
    "\n",
    "        ind2=[]\n",
    "        s11=[ind2.extend(np.where(ind==x)[0]) for x in indices[test_index]]\n",
    "\n",
    "        t_1_index=np.asarray(ind2)-1\n",
    "        t_2_index=np.asarray(ind2)-2\n",
    "        t_1_index=np.asarray(ind2)-3\n",
    "        t_4_index=np.asarray(ind2)-4\n",
    "        t_5_index=np.asarray(ind2)-5\n",
    "\n",
    "        t_1_ecog_pred=aa[t_1_index,:]\n",
    "        t_1_ecog_actual=Y_test[t_1_index,:]\n",
    "\n",
    "        q=[]\n",
    "        for k in range(np.shape(t_1_ecog_pred)[1]):\n",
    "            q.append(np.corrcoef(t_1_ecog_pred[:,k],t_1_ecog_actual[:,k])[0,1])\n",
    "\n",
    "        q=np.asarray(q)\n",
    "\n",
    "        print(np.mean(q[ind_good]))\n",
    "\n",
    "        # del q\n",
    "        # break\n",
    "\n",
    "    \n",
    "        \n",
    "        \n",
    "        p=p+1\n",
    "\n"
   ]
  },
  {
   "cell_type": "code",
   "execution_count": 306,
   "id": "b486b32d-84ee-43c7-b06b-026806f264da",
   "metadata": {},
   "outputs": [
    {
     "name": "stdout",
     "output_type": "stream",
     "text": [
      "0.15750897728892935\n"
     ]
    }
   ],
   "source": [
    "ww=np.where(np.asarray(q)>0.09)\n",
    "q=np.asarray(q)\n",
    "\n",
    "print(np.mean(q[ww]))"
   ]
  },
  {
   "cell_type": "code",
   "execution_count": 307,
   "id": "5b25857f-8bb6-49f2-9fa3-2d9806a61644",
   "metadata": {},
   "outputs": [
    {
     "data": {
      "text/plain": [
       "(array([ 0,  3,  4,  8, 17, 19, 21]),)"
      ]
     },
     "execution_count": 307,
     "metadata": {},
     "output_type": "execute_result"
    }
   ],
   "source": [
    "ww\n"
   ]
  },
  {
   "cell_type": "code",
   "execution_count": 69,
   "id": "f03c97d1-e535-4340-a95e-d7376d07576d",
   "metadata": {},
   "outputs": [
    {
     "data": {
      "text/plain": [
       "array([  9,  22,  34,  40,  56,  74,  87, 113, 135, 143, 162, 179, 186,\n",
       "       200, 212, 222, 258, 276, 284, 316, 340, 351, 369, 388, 399, 413,\n",
       "       420, 430, 445, 452, 462, 484, 493, 502, 510, 517, 530, 543, 559,\n",
       "       570, 577, 585, 591, 606, 625, 639, 647, 665, 676, 691, 704, 717,\n",
       "       723, 729, 744, 758, 764, 780, 794, 808, 824, 830])"
      ]
     },
     "execution_count": 69,
     "metadata": {},
     "output_type": "execute_result"
    }
   ],
   "source": [
    "t_1_index"
   ]
  },
  {
   "cell_type": "markdown",
   "id": "df64ef77-9d07-4ce7-b84c-02140ddfffa3",
   "metadata": {},
   "source": [
    "## t_n for sliding window"
   ]
  },
  {
   "cell_type": "code",
   "execution_count": 203,
   "id": "b7ab1790-4ca6-4f38-a99f-b5fd6b006dd8",
   "metadata": {},
   "outputs": [],
   "source": [
    "def sliding_window_t_n(start, context,Y,word_embeddings,words):\n",
    "    Y_train=Y[0:start,:]\n",
    "    emb_train=word_embeddings[0:start,:]\n",
    "    \n",
    "    encoding_model = LinearRegression().fit(emb_train,Y_train)\n",
    "    \n",
    "    \n",
    "    ##sentence prep\n",
    "    sentence=[]\n",
    "    for i in range(start+context,len(words)):\n",
    "    # i=10\n",
    "        a=words[i-context:i]\n",
    "        \n",
    "        s=[]\n",
    "        s=(a[0].replace(\" \", \"\"))\n",
    "        for k in range(1,context):\n",
    "            s=s+' '+(a[k].replace(\" \", \"\"))\n",
    "    \n",
    "        sentence.append(s)\n",
    "\n",
    "    # sliding_error=[]\n",
    "    t_1_ecog_pred=[]\n",
    "    t_1_ecog_actual=[]\n",
    "    \n",
    "    for k in range(start+context,len(words)):\n",
    "        \n",
    "        Y_test=Y[k-context :k,:]\n",
    "        emb_test=np.tile(word_embeddings[k-1,:],(context,1))\n",
    "        aa=encoding_model.predict(emb_test)\n",
    "        error2=((Y_test-aa)**2)\n",
    "        error=np.zeros((np.shape(error2)[0]-1,np.shape(error2)[1]))\n",
    "\n",
    "        t_1_index=context-1\n",
    "        t_2_index=context-2\n",
    "        t_1_index=context-3\n",
    "        t_4_index=context-4\n",
    "        t_5_index=context-5\n",
    "        \n",
    "        t_1_ecog_pred.append(aa[t_1_index,:])\n",
    "        t_1_ecog_actual.append(Y_test[t_1_index,:])\n",
    "\n",
    "    t_1_ecog_pred=np.asarray(t_1_ecog_pred)\n",
    "    t_1_ecog_actual=np.asarray(t_1_ecog_actual)\n",
    "    q=[]\n",
    "    for k in range(np.shape(t_1_ecog_pred)[1]):\n",
    "        q.append(np.corrcoef(np.asarray(t_1_ecog_pred[:,k]),np.asarray(t_1_ecog_actual[:,k]))[0,1])\n",
    "\n",
    "    # print(np.mean(q))\n",
    "    \n",
    "        \n",
    "        \n",
    "    # sentence    \n",
    "    return t_1_ecog_pred,t_1_ecog_actual,sentence"
   ]
  },
  {
   "cell_type": "code",
   "execution_count": 17,
   "id": "c0918c8f-3aa6-43c2-9ac0-4cd3facbc24e",
   "metadata": {},
   "outputs": [
    {
     "ename": "IndexError",
     "evalue": "tuple index out of range",
     "output_type": "error",
     "traceback": [
      "\u001b[0;31m---------------------------------------------------------------------------\u001b[0m",
      "\u001b[0;31mIndexError\u001b[0m                                Traceback (most recent call last)",
      "Cell \u001b[0;32mIn[17], line 66\u001b[0m\n\u001b[1;32m     64\u001b[0m q\u001b[38;5;241m=\u001b[39m[]\n\u001b[1;32m     65\u001b[0m mse\u001b[38;5;241m=\u001b[39m[]\n\u001b[0;32m---> 66\u001b[0m \u001b[38;5;28;01mfor\u001b[39;00m k \u001b[38;5;129;01min\u001b[39;00m \u001b[38;5;28mrange\u001b[39m(np\u001b[38;5;241m.\u001b[39mshape(t_1_ecog_pred)[\u001b[38;5;241m1\u001b[39m]):\n\u001b[1;32m     67\u001b[0m     q\u001b[38;5;241m.\u001b[39mappend(np\u001b[38;5;241m.\u001b[39mcorrcoef(q1[:,k],q2[:,k])[\u001b[38;5;241m0\u001b[39m,\u001b[38;5;241m1\u001b[39m])\n\u001b[1;32m     68\u001b[0m     mse\u001b[38;5;241m.\u001b[39mappend(np\u001b[38;5;241m.\u001b[39mmean((q1[:,k] \u001b[38;5;241m-\u001b[39m q2[:,k])\u001b[38;5;241m*\u001b[39m\u001b[38;5;241m*\u001b[39m\u001b[38;5;241m2\u001b[39m\u001b[38;5;241m/\u001b[39m(t_0_pred[:,k] \u001b[38;5;241m-\u001b[39m t_0_actual[:,k])\u001b[38;5;241m*\u001b[39m\u001b[38;5;241m*\u001b[39m\u001b[38;5;241m2\u001b[39m))\n",
      "\u001b[0;31mIndexError\u001b[0m: tuple index out of range"
     ]
    }
   ],
   "source": [
    "start=4500\n",
    "context=10\n",
    "Y=elec.copy()\n",
    "word_embeddings=all_emb.copy()\n",
    "\n",
    "Y_train=Y[0:start,:]\n",
    "emb_train=word_embeddings[0:start,:]\n",
    "\n",
    "encoding_model = LinearRegression().fit(emb_train,Y_train)\n",
    "\n",
    "\n",
    "# ##sentence prep\n",
    "# sentence=[]\n",
    "# for i in range(start+context,len(words)):\n",
    "# # i=10\n",
    "#     a=words[i-context:i]\n",
    "    \n",
    "#     s=[]\n",
    "#     s=(a[0].replace(\" \", \"\"))\n",
    "#     for k in range(1,context):\n",
    "#         s=s+' '+(a[k].replace(\" \", \"\"))\n",
    "\n",
    "#     sentence.append(s)\n",
    "\n",
    "# sliding_error=[]\n",
    "t_0_ecog_pred=[]\n",
    "t_0_ecog_actual=[]\n",
    "t_1_ecog_pred=[]\n",
    "t_1_ecog_actual=[]\n",
    "\n",
    "for k in range(start+context,len(words)):\n",
    "\n",
    "    # print('k:',k)\n",
    "    \n",
    "    Y_test=Y[k-context :k,:]\n",
    "    emb_test=np.tile(word_embeddings[k-1,:],(context,1))\n",
    "    aa=encoding_model.predict(emb_test)\n",
    "    error2=((Y_test-aa)**2).mean(axis=1)\n",
    "    error2=error2/error2[-1]\n",
    "    break\n",
    "    error=np.zeros((np.shape(error2)[0]-1,np.shape(error2)[1]))\n",
    "\n",
    "    t_1_index=context-1\n",
    "    t_2_index=context-2\n",
    "    t_3_index=context-3\n",
    "    t_4_index=context-4\n",
    "    t_5_index=context-5\n",
    "\n",
    "    t_0_ecog_pred.append(aa[t_1_index,:])\n",
    "    t_0_ecog_actual.append(Y_test[t_1_index,:])\n",
    "\n",
    "    t_1_ecog_pred.append(aa[t_1_index-1,:])\n",
    "    t_1_ecog_actual.append(Y_test[t_1_index-1,:])\n",
    "\n",
    "    # print(Y_test[t_1_index-1,0])\n",
    "\n",
    "    # break\n",
    "t_0_pred=np.asarray(t_0_ecog_pred)\n",
    "t_0_actual=np.asarray(t_0_ecog_actual)\n",
    "\n",
    "\n",
    "q1=np.asarray(t_1_ecog_pred)\n",
    "q2=np.asarray(t_1_ecog_actual)\n",
    "q=[]\n",
    "mse=[]\n",
    "for k in range(np.shape(t_1_ecog_pred)[1]):\n",
    "    q.append(np.corrcoef(q1[:,k],q2[:,k])[0,1])\n",
    "    mse.append(np.mean((q1[:,k] - q2[:,k])**2/(t_0_pred[:,k] - t_0_actual[:,k])**2))\n",
    "\n",
    "# print(np.mean(q))\n",
    "ind3=[ 2,  4,  9, 10, 13, 14, 19, 21, 22, 23, 24, 26, 27]\n",
    "# q=np.asarray(q)\n",
    "# q[ind3].mean()\n",
    "mse=np.asarray(mse)\n",
    "print(np.mean(mse[ind3]))"
   ]
  },
  {
   "cell_type": "code",
   "execution_count": 53,
   "id": "8341fd4a-4638-4a90-9974-431cf7d42605",
   "metadata": {},
   "outputs": [
    {
     "name": "stdout",
     "output_type": "stream",
     "text": [
      "1.654818412587575\n",
      "0.09522634372515858\n"
     ]
    }
   ],
   "source": [
    "start=4500\n",
    "context=10\n",
    "Y=elec.copy()\n",
    "word_embeddings=all_emb.copy()\n",
    "ind3=[ 2,  4,  9, 10, 13, 14, 19, 21, 22, 23, 24, 26, 27]\n",
    "Y_train=Y[0:start,ind3]\n",
    "emb_train=word_embeddings[0:start,:]\n",
    "\n",
    "encoding_model = LinearRegression().fit(emb_train,Y_train)\n",
    "\n",
    "\n",
    "# ##sentence prep\n",
    "# sentence=[]\n",
    "# for i in range(start+context,len(words)):\n",
    "# # i=10\n",
    "#     a=words[i-context:i]\n",
    "    \n",
    "#     s=[]\n",
    "#     s=(a[0].replace(\" \", \"\"))\n",
    "#     for k in range(1,context):\n",
    "#         s=s+' '+(a[k].replace(\" \", \"\"))\n",
    "\n",
    "#     sentence.append(s)\n",
    "\n",
    "# sliding_error=[]\n",
    "t_0_ecog_pred=[]\n",
    "t_0_ecog_actual=[]\n",
    "t_1_ecog_pred=[]\n",
    "t_1_ecog_actual=[]\n",
    "t_1_mse=[]\n",
    "for k in range(start+context,len(words)):\n",
    "\n",
    "    # print('k:',k)\n",
    "    \n",
    "    Y_test=Y[k-context :k,ind3]\n",
    "    emb_test=np.tile(word_embeddings[k-1,:],(context,1))\n",
    "    aa=encoding_model.predict(emb_test)\n",
    "    error2=((Y_test-aa)**2).mean(axis=1)\n",
    "    # error2=error2[:,ind3].mean(axis=1)\n",
    "    error2=error2/error2[-1]\n",
    "\n",
    "    t_1_mse.append(error2[-6])\n",
    "   \n",
    "#     error=np.zeros((np.shape(error2)[0]-1,np.shape(error2)[1]))\n",
    "\n",
    "#     t_1_index=context-1\n",
    "#     t_2_index=context-2\n",
    "#     t_3_index=context-3\n",
    "#     t_4_index=context-4\n",
    "#     t_5_index=context-5\n",
    "\n",
    "#     t_0_ecog_pred.append(aa[t_1_index,:])\n",
    "#     t_0_ecog_actual.append(Y_test[t_1_index,:])\n",
    "\n",
    "#     t_1_ecog_pred.append(aa[t_1_index-1,:])\n",
    "#     t_1_ecog_actual.append(Y_test[t_1_index-1,:])\n",
    "\n",
    "#     # print(Y_test[t_1_index-1,0])\n",
    "\n",
    "#     # break\n",
    "# t_0_pred=np.asarray(t_0_ecog_pred)\n",
    "# t_0_actual=np.asarray(t_0_ecog_actual)\n",
    "\n",
    "\n",
    "# q1=np.asarray(t_1_ecog_pred)\n",
    "# q2=np.asarray(t_1_ecog_actual)\n",
    "# q=[]\n",
    "# mse=[]\n",
    "# for k in range(np.shape(t_1_ecog_pred)[1]):\n",
    "#     q.append(np.corrcoef(q1[:,k],q2[:,k])[0,1])\n",
    "#     mse.append(np.mean((q1[:,k] - q2[:,k])**2/(t_0_pred[:,k] - t_0_actual[:,k])**2))\n",
    "\n",
    "# # print(np.mean(q))\n",
    "# ind3=[ 2,  4,  9, 10, 13, 14, 19, 21, 22, 23, 24, 26, 27]\n",
    "# # q=np.asarray(q)\n",
    "# # q[ind3].mean()\n",
    "# mse=np.asarray(mse)\n",
    "# print(np.mean(mse[ind3]))\n",
    "print(np.mean(t_1_mse))\n",
    "print(scipy.stats.sem(t_1_mse))"
   ]
  },
  {
   "cell_type": "code",
   "execution_count": 10,
   "id": "61481654-c1c9-4164-ae7f-e3c33a5f6439",
   "metadata": {},
   "outputs": [
    {
     "data": {
      "text/plain": [
       "array([0.60858178, 1.32738813, 1.72679483, 2.0087849 , 2.9287475 ,\n",
       "       1.09975533, 2.3417012 , 2.27493147, 1.6711622 , 1.        ])"
      ]
     },
     "execution_count": 10,
     "metadata": {},
     "output_type": "execute_result"
    }
   ],
   "source": [
    "error2"
   ]
  },
  {
   "cell_type": "code",
   "execution_count": 196,
   "id": "a807f907-1abc-49b3-9ded-2f2f9c204f06",
   "metadata": {},
   "outputs": [
    {
     "data": {
      "text/plain": [
       "array([21.04932863, 21.04932863, 21.04932863, 21.04932863, 21.04932863,\n",
       "       21.04932863, 21.04932863, 21.04932863, 21.04932863, 21.04932863])"
      ]
     },
     "execution_count": 196,
     "metadata": {},
     "output_type": "execute_result"
    }
   ],
   "source": [
    "aa[:,0]"
   ]
  },
  {
   "cell_type": "code",
   "execution_count": 177,
   "id": "db0112ca-69d2-480a-86f6-c0d17618fd8d",
   "metadata": {},
   "outputs": [
    {
     "data": {
      "text/plain": [
       "array([12.51355943, -2.6335965 , 19.14752435, 33.07974648, 21.53771623])"
      ]
     },
     "execution_count": 177,
     "metadata": {},
     "output_type": "execute_result"
    }
   ],
   "source": [
    "q1[:,30][0:5]"
   ]
  },
  {
   "cell_type": "code",
   "execution_count": 178,
   "id": "5ba8b4d4-839c-4183-b105-3f9127ee5910",
   "metadata": {},
   "outputs": [
    {
     "data": {
      "text/plain": [
       "array([ 49.91006489, -20.56917075,  51.90745009,   0.52660304,\n",
       "        21.33828603])"
      ]
     },
     "execution_count": 178,
     "metadata": {},
     "output_type": "execute_result"
    }
   ],
   "source": [
    "q2[:,30][0:5]"
   ]
  },
  {
   "cell_type": "code",
   "execution_count": 217,
   "id": "5b81c0f6-e039-4f62-b316-18dd45907d6a",
   "metadata": {},
   "outputs": [],
   "source": [
    "q=[]\n",
    "for k in range(np.shape(t_1_ecog_pred)[1]):\n",
    "    q.append(np.corrcoef(q1[:,k],q2[:,k])[0,1])\n"
   ]
  },
  {
   "cell_type": "code",
   "execution_count": 260,
   "id": "ef59b357-9edb-470e-8fe9-1fa787726041",
   "metadata": {},
   "outputs": [
    {
     "data": {
      "text/plain": [
       "array([ 0.0489013 ,  0.03590178,  0.01625713, -0.0423999 ,  0.04407187,\n",
       "        0.01048927, -0.12226159, -0.06479422, -0.01221135, -0.00259751,\n",
       "       -0.01118947,  0.03097836,  0.01055946, -0.09153729])"
      ]
     },
     "execution_count": 260,
     "metadata": {},
     "output_type": "execute_result"
    }
   ],
   "source": [
    "q=np.asarray(q)\n",
    "ind3=np.where(np.asarray(q)<0.05)[-1]\n",
    "q[ind3]"
   ]
  },
  {
   "cell_type": "code",
   "execution_count": 261,
   "id": "2715c024-6443-4fe7-8e7c-a176ed2fea20",
   "metadata": {},
   "outputs": [
    {
     "data": {
      "text/plain": [
       "array([ 0,  1,  3,  5,  6,  7,  8, 15, 16, 17, 25, 28, 29, 30])"
      ]
     },
     "execution_count": 261,
     "metadata": {},
     "output_type": "execute_result"
    }
   ],
   "source": [
    "ind3"
   ]
  },
  {
   "cell_type": "code",
   "execution_count": 249,
   "id": "27f73f72-f01e-44f9-ac8c-4e68b3c1f032",
   "metadata": {},
   "outputs": [],
   "source": [
    "df_all_sub=pd.read_csv('/scratch/gpfs/arnab/Encoding/all_subject_sig_with_area.csv')"
   ]
  },
  {
   "cell_type": "code",
   "execution_count": 266,
   "id": "8fcc81b6-bdd2-4fa8-afa4-4b868c9c05e2",
   "metadata": {},
   "outputs": [
    {
     "data": {
      "text/plain": [
       "array(['IFG', 'IFG', 'parietal', 'STG', 'STG', 'STG', 'IFG', 'STG', 'STG',\n",
       "       'STG', 'IFG', 'IFG', 'IFG', 'IFG'], dtype=object)"
      ]
     },
     "execution_count": 266,
     "metadata": {},
     "output_type": "execute_result"
    }
   ],
   "source": [
    "df2=df_all_sub.loc[df_all_sub.subject==717]\n",
    "np.asarray(df2.area.values)[ind3]"
   ]
  },
  {
   "cell_type": "code",
   "execution_count": null,
   "id": "0913761c-a578-4a16-bccc-72ecd30a29f7",
   "metadata": {},
   "outputs": [],
   "source": []
  },
  {
   "cell_type": "code",
   "execution_count": 181,
   "id": "1f7c2b44-0e5d-4d00-95e0-fabe874ed1e4",
   "metadata": {},
   "outputs": [],
   "source": [
    "start=4000\n",
    "context=10\n",
    "q1,q2,s=sliding_window_t_n(start, context,elec,all_emb,words)"
   ]
  },
  {
   "cell_type": "code",
   "execution_count": 151,
   "id": "96392355-6641-4c8f-a4b7-c3b65d56d7ed",
   "metadata": {},
   "outputs": [
    {
     "data": {
      "text/plain": [
       "array([12.51355943, -2.6335965 , 19.14752435, 33.07974648, 21.53771623])"
      ]
     },
     "execution_count": 151,
     "metadata": {},
     "output_type": "execute_result"
    }
   ],
   "source": [
    "q1[:,30][0:5]"
   ]
  },
  {
   "cell_type": "code",
   "execution_count": 152,
   "id": "1e4a56ca-985e-49e5-8317-6b4f512479ca",
   "metadata": {},
   "outputs": [
    {
     "data": {
      "text/plain": [
       "array([ 67.5567894 ,  49.91006489, -20.56917075,  51.90745009,\n",
       "         0.52660304])"
      ]
     },
     "execution_count": 152,
     "metadata": {},
     "output_type": "execute_result"
    }
   ],
   "source": [
    "q2[:,30][0:5]"
   ]
  },
  {
   "cell_type": "code",
   "execution_count": 153,
   "id": "260b5540-28e9-48e1-a86b-491d6c05863b",
   "metadata": {},
   "outputs": [
    {
     "data": {
      "text/plain": [
       "array([[ 1.        , -0.01503521],\n",
       "       [-0.01503521,  1.        ]])"
      ]
     },
     "execution_count": 153,
     "metadata": {},
     "output_type": "execute_result"
    }
   ],
   "source": [
    "np.corrcoef(q1[:,30],q2[:,30])"
   ]
  },
  {
   "cell_type": "code",
   "execution_count": 202,
   "id": "b6e18857-0d8d-42c4-9a75-4d67ae88eb8b",
   "metadata": {},
   "outputs": [],
   "source": [
    "emb_train=all_emb[0:start,:]\n",
    "emb_test=all_emb[start:,:]\n",
    "\n",
    "Y_train=elec[0:start,:]\n",
    "Y_test=elec[start:,:]\n",
    "encoding_model = LinearRegression().fit(emb_train,Y_train)\n",
    "aa=encoding_model.predict(emb_test)"
   ]
  },
  {
   "cell_type": "code",
   "execution_count": 203,
   "id": "31d63e79-00a2-4d61-b7fc-23beccda2c23",
   "metadata": {},
   "outputs": [
    {
     "data": {
      "text/plain": [
       "array([[1.        , 0.25464553],\n",
       "       [0.25464553, 1.        ]])"
      ]
     },
     "execution_count": 203,
     "metadata": {},
     "output_type": "execute_result"
    }
   ],
   "source": [
    "np.corrcoef(aa[:,30],Y_test[:,30])"
   ]
  },
  {
   "cell_type": "code",
   "execution_count": 204,
   "id": "ee24cf7e-57b9-4cce-8634-96531f71d1ea",
   "metadata": {},
   "outputs": [
    {
     "data": {
      "text/plain": [
       "array([18.10610042, 21.44579815, 18.69911574, 15.37057247, 16.85890386,\n",
       "        6.77435287, 22.21928288, 20.88096227, 15.90153537, 21.04932863])"
      ]
     },
     "execution_count": 204,
     "metadata": {},
     "output_type": "execute_result"
    }
   ],
   "source": [
    "aa[:,0][0:10]"
   ]
  },
  {
   "cell_type": "code",
   "execution_count": 205,
   "id": "e039bbe7-6522-48a9-b7de-09fadae29c70",
   "metadata": {},
   "outputs": [
    {
     "data": {
      "text/plain": [
       "array([-37.9342005 ,  -3.22200296,  48.78416239, -60.71188173,\n",
       "       -53.21687497,  72.13232228, 169.45280849, 138.68213774,\n",
       "       -30.70565381, -45.34518779])"
      ]
     },
     "execution_count": 205,
     "metadata": {},
     "output_type": "execute_result"
    }
   ],
   "source": [
    "Y_test[:,0][0:10]"
   ]
  },
  {
   "cell_type": "markdown",
   "id": "6d0a4d17",
   "metadata": {},
   "source": [
    "## word number based"
   ]
  },
  {
   "cell_type": "code",
   "execution_count": 36,
   "id": "c9f874a9",
   "metadata": {},
   "outputs": [
    {
     "data": {
      "text/plain": [
       "(314, 50)"
      ]
     },
     "execution_count": 36,
     "metadata": {},
     "output_type": "execute_result"
    }
   ],
   "source": [
    "k=5\n",
    "indices=np.where(word_number==k)\n",
    "emb=np.squeeze(all_emb[indices,:])\n",
    "Y=np.squeeze(elec[indices,:])\n",
    "\n",
    "clf_linear=LinearRegression()\n",
    "clf_linear.fit(emb,Y)\n",
    "\n",
    "np.shape(emb)"
   ]
  },
  {
   "cell_type": "code",
   "execution_count": 134,
   "id": "eb164ece",
   "metadata": {},
   "outputs": [
    {
     "data": {
      "text/plain": [
       "55"
      ]
     },
     "execution_count": 134,
     "metadata": {},
     "output_type": "execute_result"
    }
   ],
   "source": [
    "max(np.unique(word_number))"
   ]
  },
  {
   "cell_type": "code",
   "execution_count": 16,
   "id": "9208287d",
   "metadata": {},
   "outputs": [],
   "source": [
    "a1=[]\n",
    "a2=[]\n",
    "a3=[]\n",
    "p=0\n",
    "for k in range(1,40):\n",
    "    \n",
    "    indices=np.where(word_number==k)\n",
    "    emb=np.squeeze(all_emb[indices,:])\n",
    "    Y=np.squeeze(elec[indices,:])\n",
    "\n",
    "    clf_linear=LinearRegression()\n",
    "    clf_linear.fit(emb,Y)\n",
    "\n",
    "    for j in range(len(np.unique(sentence_number))):\n",
    "\n",
    "        index2=np.where(sentence_number==j)[1]\n",
    "        s=word_number[index2]\n",
    "        if k in s:\n",
    "            emb2=all_emb[index2,:] # if we are using original embeddings\n",
    "            \n",
    "            # if we are using the words embeddings\n",
    "#             ind=np.squeeze(np.intersect1d(np.where(sentence_number==1)[1], np.squeeze(np.where(word_number==2))))\n",
    "#             emb22=all_emb[ind,:]\n",
    "#             emb2=np.repeat(emb22[np.newaxis,...], len(index2),axis=0)\n",
    "            \n",
    "            \n",
    "            Y2=elec[index2,:]\n",
    "            aa=clf_linear.predict(emb2)\n",
    "            error=((Y2-aa)**2).mean(axis=1)\n",
    "            if p==0:\n",
    "                a1.append([error])\n",
    "                \n",
    "            else:\n",
    "                a1[j].append([error])\n",
    "#             a2[j].append(j)\n",
    "#             a3[j].append(k)\n",
    "            \n",
    "            del error \n",
    "    p=1\n",
    "\n",
    "error_mat=[]\n",
    "for i in range(len(a1)):\n",
    "    \n",
    "    q=np.zeros((len(a1[i]),len(a1[i][0])))\n",
    "    \n",
    "    for k1 in range(len(a1[i])):\n",
    "                #=(a1[i][k1])\n",
    "                q[k1,:]=np.asarray(a1[i][k1])\n",
    "                \n",
    "    error_mat.append(q)\n",
    "                    \n",
    "    del q "
   ]
  },
  {
   "cell_type": "code",
   "execution_count": 22,
   "id": "5ebfe7a9",
   "metadata": {},
   "outputs": [
    {
     "data": {
      "text/plain": [
       "array([ 1676.46022766, 31367.05459017, 26287.87282154, 61986.78690648,\n",
       "       42361.14531909, 42809.75231875, 53156.44428139, 23557.97879341,\n",
       "       17456.11115036, 19660.54245049, 11370.85666062, 40039.30039446,\n",
       "       21819.38371039, 19163.1556629 , 33752.67785654, 17288.15669853,\n",
       "       20765.34719978, 28118.16795953,  8560.71083597, 34787.67242387,\n",
       "       30800.440689  ])"
      ]
     },
     "execution_count": 22,
     "metadata": {},
     "output_type": "execute_result"
    }
   ],
   "source": [
    "(error_mat[1][0])"
   ]
  },
  {
   "cell_type": "markdown",
   "id": "3f451dd6",
   "metadata": {},
   "source": [
    "## word wise correlation"
   ]
  },
  {
   "cell_type": "code",
   "execution_count": 3,
   "id": "9b35a003",
   "metadata": {},
   "outputs": [
    {
     "data": {
      "text/plain": [
       "(314, 31, 55, 103)"
      ]
     },
     "execution_count": 3,
     "metadata": {},
     "output_type": "execute_result"
    }
   ],
   "source": [
    "np.shape(Y_200)"
   ]
  },
  {
   "cell_type": "code",
   "execution_count": 4,
   "id": "fc102a8e",
   "metadata": {},
   "outputs": [],
   "source": [
    "corr_mat=[]\n",
    "for i in range(len(np.unique(sentence_number))):\n",
    "    \n",
    "    l=len(np.where(sentence_number==i)[1])\n",
    "    \n",
    "    \n",
    "    for j in range(np.shape(Y_200)[1]):\n",
    "        \n",
    "        Y=Y_200[i,j,0:l,:]\n",
    "        \n",
    "        if j==0:\n",
    "            mat=np.corrcoef(Y)\n",
    "        else:\n",
    "            mat=mat+np.corrcoef(Y)\n",
    "            \n",
    "    mat=mat/np.shape(Y_200)[1]\n",
    "    \n",
    "    corr_mat.append(mat)\n",
    "    \n",
    "        \n",
    "            \n",
    "            \n",
    "            \n",
    "            "
   ]
  },
  {
   "cell_type": "code",
   "execution_count": 5,
   "id": "3043f5f5",
   "metadata": {},
   "outputs": [
    {
     "name": "stderr",
     "output_type": "stream",
     "text": [
      "/home/arnab/.conda/envs/srm_arnab/lib/python3.9/site-packages/numpy/core/_asarray.py:136: VisibleDeprecationWarning: Creating an ndarray from ragged nested sequences (which is a list-or-tuple of lists-or-tuples-or ndarrays with different lengths or shapes) is deprecated. If you meant to do this, you must specify 'dtype=object' when creating the ndarray\n",
      "  return array(a, dtype, copy=False, order=order, subok=True)\n"
     ]
    }
   ],
   "source": [
    "filename='corr_score_each_sentence_podcast.mat'\n",
    "\n",
    "savemat(filename,{'corr_mat':corr_mat})"
   ]
  },
  {
   "cell_type": "code",
   "execution_count": 29,
   "id": "556402ed",
   "metadata": {},
   "outputs": [
    {
     "data": {
      "text/plain": [
       "(6,)"
      ]
     },
     "execution_count": 29,
     "metadata": {},
     "output_type": "execute_result"
    }
   ],
   "source": [
    "np.shape(corr_mat[313][0])"
   ]
  },
  {
   "cell_type": "code",
   "execution_count": 14,
   "id": "31cb4f45",
   "metadata": {},
   "outputs": [
    {
     "data": {
      "text/plain": [
       "17"
      ]
     },
     "execution_count": 14,
     "metadata": {},
     "output_type": "execute_result"
    }
   ],
   "source": [
    "len(np.where(sentence_number==0)[1])\n"
   ]
  },
  {
   "cell_type": "code",
   "execution_count": 24,
   "id": "542d744c",
   "metadata": {},
   "outputs": [
    {
     "data": {
      "text/plain": [
       "314"
      ]
     },
     "execution_count": 24,
     "metadata": {},
     "output_type": "execute_result"
    }
   ],
   "source": [
    "len(np.unique(sentence_number))"
   ]
  },
  {
   "cell_type": "code",
   "execution_count": 20,
   "id": "5b29ad4f",
   "metadata": {},
   "outputs": [
    {
     "data": {
      "text/plain": [
       "(6, 103)"
      ]
     },
     "execution_count": 20,
     "metadata": {},
     "output_type": "execute_result"
    }
   ],
   "source": [
    "np.shape(Y)"
   ]
  },
  {
   "cell_type": "markdown",
   "id": "45300007",
   "metadata": {},
   "source": [
    "## Attention Mask"
   ]
  },
  {
   "cell_type": "code",
   "execution_count": 4,
   "id": "0175bc68",
   "metadata": {},
   "outputs": [],
   "source": [
    "df_sentence=pd.read_csv('all_sentence_podcast.csv')\n",
    "sentences=df_sentence['sentence']\n",
    "num_word=df_sentence['num_word']\n",
    "cumulative_words=np.cumsum(num_word)"
   ]
  },
  {
   "cell_type": "code",
   "execution_count": 5,
   "id": "4448d2bc",
   "metadata": {},
   "outputs": [
    {
     "data": {
      "text/plain": [
       "\"So there's some places where animals almost never go, places that are designed by humans for humans.\""
      ]
     },
     "execution_count": 5,
     "metadata": {},
     "output_type": "execute_result"
    }
   ],
   "source": [
    "s=sentences[0]\n",
    "s"
   ]
  },
  {
   "cell_type": "code",
   "execution_count": 6,
   "id": "8128ca58",
   "metadata": {},
   "outputs": [
    {
     "data": {
      "text/plain": [
       "\"ere's some places where animals almost never go, places that are designed by humans for humans\""
      ]
     },
     "execution_count": 6,
     "metadata": {},
     "output_type": "execute_result"
    }
   ],
   "source": [
    "s[5:-1]"
   ]
  },
  {
   "cell_type": "code",
   "execution_count": 62,
   "id": "7a008f91",
   "metadata": {},
   "outputs": [
    {
     "name": "stdout",
     "output_type": "stream",
     "text": [
      "[\"So there's some places where animals almost never go, places that are designed by humans for humans.\"]\n",
      "[\"So there's some places where animals almost never go, places that are designed by humans for humans.\", 'This act ends up in a place like that, but it starts about as far from there as you can get.']\n",
      "52\n",
      "[['ome places where animals almost never go, places that are designed by humans for humans']]\n",
      "[['ome places where animals almost never go, places that are designed by humans for humans'], 'A few years ago, the photographer David Slater traveled there from his home in England to photograph a troop of monkeys.']\n",
      "71\n",
      "[[[]]]\n",
      "[[[]], 'you name it, I had to I had to go through it.']\n",
      "[[[]], 'you name it, I had to I had to go through it.', 'Uh and it was just so amazing just to be to be like a monkey.']\n",
      "[[[]], 'you name it, I had to I had to go through it.', 'Uh and it was just so amazing just to be to be like a monkey.', 'I I I was a monkey honestly.']\n",
      "49\n",
      "[[[]]]\n",
      "[[[]], 'And uh you know I know a little bit about monkey monkey etiquette and showing your teeth not to show your teeth, not to stare them in the face.']\n"
     ]
    }
   ],
   "source": [
    "size=40\n",
    "\n",
    "sentence=[]\n",
    "for k in range(10): #range(len(sentences)):\n",
    "    s=sentences[k]\n",
    "    sentence.append(s)\n",
    "    \n",
    "    \n",
    "    \n",
    "#     print(sentence)\n",
    "    \n",
    "    \n",
    "    if len(str(sentence).split())>size:\n",
    "        \n",
    "        print(len(str(sentence).split()))\n",
    "        \n",
    "        s1=[]\n",
    "        s1.append(sentence[0][len(str(sentence).split())-size:-1])\n",
    "        sentence=[]\n",
    "        sentence.append(s1)\n",
    "    \n",
    "#     a=remove_punc(sentence[0])\n",
    "#     sentence=[]\n",
    "#     sentence.append(a)\n",
    "    print(sentence)\n",
    "    "
   ]
  },
  {
   "cell_type": "code",
   "execution_count": 53,
   "id": "3751959a",
   "metadata": {},
   "outputs": [
    {
     "name": "stdout",
     "output_type": "stream",
     "text": [
      "[[[]], 'And uh you know I know a little bit about monkey monkey etiquette and showing your teeth not to show your teeth, not to stare them in the face.']\n"
     ]
    }
   ],
   "source": [
    "print(sentence)\n"
   ]
  },
  {
   "cell_type": "code",
   "execution_count": 59,
   "id": "2a6f05cc",
   "metadata": {},
   "outputs": [],
   "source": [
    "def remove_punc(s):\n",
    "    punc = '''!()-[]{};:\"\\,<>./?@#$%^&*_~'''\n",
    "    s=str(s)\n",
    "    for ele in s:\n",
    "        if ele in punc:\n",
    "           \n",
    "            s = s.replace(ele, \"\")\n",
    "\n",
    "    return s"
   ]
  },
  {
   "cell_type": "code",
   "execution_count": 38,
   "id": "6833e65b",
   "metadata": {},
   "outputs": [
    {
     "data": {
      "text/plain": [
       "\"ere's some places where animals almost never go, places that are designed by humans for humans\""
      ]
     },
     "execution_count": 38,
     "metadata": {},
     "output_type": "execute_result"
    }
   ],
   "source": [
    "size=10\n",
    "sentence[0][5:-1]"
   ]
  },
  {
   "cell_type": "code",
   "execution_count": 49,
   "id": "94f66555",
   "metadata": {},
   "outputs": [
    {
     "name": "stdout",
     "output_type": "stream",
     "text": [
      "The original string is : Gfg, is best : for ! Geeks ;\n",
      "The string after punctuation filter : Gfg is best  for  Geeks \n"
     ]
    }
   ],
   "source": [
    "# initializing string\n",
    "test_str = \"Gfg, is best : for ! Geeks ;\"\n",
    " \n",
    "# printing original string\n",
    "print(\"The original string is : \" + test_str)\n",
    " \n",
    "# initializing punctuations string\n",
    "punc = '''!()-[]{};:'\"\\,<>./?@#$%^&*_~'''\n",
    " \n",
    "# Removing punctuations in string\n",
    "# Using loop + punctuation string\n",
    "for ele in test_str:\n",
    "    if ele in punc:\n",
    "        test_str = test_str.replace(ele, \"\")\n",
    " \n",
    "# printing result\n",
    "print(\"The string after punctuation filter : \" + test_str)"
   ]
  },
  {
   "cell_type": "code",
   "execution_count": 28,
   "id": "8aa9f332",
   "metadata": {},
   "outputs": [
    {
     "data": {
      "text/plain": [
       "17"
      ]
     },
     "execution_count": 28,
     "metadata": {},
     "output_type": "execute_result"
    }
   ],
   "source": [
    "len(str(sentence).split())"
   ]
  },
  {
   "cell_type": "markdown",
   "id": "b74b968c",
   "metadata": {},
   "source": [
    "## Analysis"
   ]
  },
  {
   "cell_type": "code",
   "execution_count": 2,
   "id": "634d5745",
   "metadata": {},
   "outputs": [],
   "source": [
    "def load_pickle(file_path):\n",
    "    \n",
    "    pickle_file = open(file_path, \"rb\")\n",
    "    objects = []\n",
    "\n",
    "    i=0\n",
    "\n",
    "    while True:\n",
    "        print('i',i)\n",
    "        try:\n",
    "\n",
    "            objects.append(pickle.load(pickle_file))\n",
    "\n",
    "        except EOFError:\n",
    "\n",
    "            break\n",
    "\n",
    "    pickle_file.close()\n",
    "\n",
    "    a=objects[0]\n",
    "    \n",
    "    return a"
   ]
  },
  {
   "cell_type": "code",
   "execution_count": 3,
   "id": "85ed61d4",
   "metadata": {},
   "outputs": [],
   "source": [
    "def load_label(filepath):\n",
    "\n",
    "    with open(filepath, \"rb\") as f:\n",
    "        full_labels = pickle.load(f)\n",
    "        #labels_df = pd.DataFrame(full_labels[\"labels\"])\n",
    "        labels_df = pd.DataFrame(full_labels)\n",
    "\n",
    "    # labels_df[\"audio_onset\"] = ((labels_df.onset + 3000) / 512)\n",
    "    # labels_df[\"audio_offset\"] = ((labels_df.offset + 3000) / 512)\n",
    "\n",
    "    # labels_df = labels_df.dropna(subset=[\"audio_onset\", \"audio_offset\"])\n",
    "    \n",
    "\n",
    "    return labels_df"
   ]
  },
  {
   "cell_type": "code",
   "execution_count": 7,
   "id": "68da77dc",
   "metadata": {},
   "outputs": [
    {
     "name": "stdout",
     "output_type": "stream",
     "text": [
      "i 0\n",
      "i 0\n"
     ]
    },
    {
     "data": {
      "text/plain": [
       "dict_keys(['attention_mask', 'sentence_words', 'token_idx'])"
      ]
     },
     "execution_count": 7,
     "metadata": {},
     "output_type": "execute_result"
    }
   ],
   "source": [
    "pickle_file_path='attention.pickle'\n",
    "df=load_pickle(pickle_file_path)\n",
    "df.keys()"
   ]
  },
  {
   "cell_type": "code",
   "execution_count": 55,
   "id": "590a9ef7",
   "metadata": {},
   "outputs": [],
   "source": [
    "attn=df['attention_mask']\n",
    "sentence_words=df['sentence_words']\n",
    "idx=df['token_idx']\n",
    "\n",
    "mse=loadmat('mse_score_each_sentence_podcast.mat')['error_mat']"
   ]
  },
  {
   "cell_type": "code",
   "execution_count": 75,
   "id": "a2e81a3e-8117-458e-92aa-e5af59ff42d8",
   "metadata": {},
   "outputs": [],
   "source": [
    "mse_score=[]\n",
    "corr_score=[]\n",
    "\n",
    "for sentence in range(len(attn)):\n",
    "    a1=attn[sentence].detach().numpy()\n",
    "    w1=sentence_words[sentence]\n",
    "    id=idx[sentence]\n",
    "\n",
    "    indices=np.where(id==0)[0]\n",
    "    a1=np.delete(a1,indices, axis=0)\n",
    "    a1= np.delete(a1,indices, axis=1)\n",
    "\n",
    "    c1=corr_mat[sentence]\n",
    "\n",
    "    for i in range(np.shape(a1)[0]):\n",
    "        a1[i,i+1:]=-np.inf\n",
    "\n",
    "    x1 = F.softmax(torch.from_numpy(a1), dim = 1)  ##attention mask\n",
    "    \n",
    "    for i in range(np.shape(c1)[0]):\n",
    "        c1[i,i:]=-np.inf\n",
    "    \n",
    "    x2 = F.softmax(torch.from_numpy(c1), dim = 1)  ## ecog corr\n",
    "\n",
    "    x3=mse[0][sentence]\n",
    "\n",
    "    mse_score1=[]\n",
    "    corr_score1=[]\n",
    "    for k in range(2,min(np.shape(a1)[0],35)):\n",
    "\n",
    "        attn_input=x1[k-2,:k-1]\n",
    "        corr_input=x2[k-1,:k-1]\n",
    "        mse_input=x3[k-1,:k-1]\n",
    "\n",
    "        mse_score1.append(stats.spearmanr(attn_input, mse_input).statistic)\n",
    "        corr_score1.append(stats.spearmanr(attn_input, corr_input).statistic)\n",
    "    \n",
    "    mse_score1 = [x for x in mse_score1 if (math.isnan(x) != True)]\n",
    "    corr_score1 = [x for x in corr_score1 if (math.isnan(x) != True)]\n",
    "    mse_score.append(np.mean(mse_score1))\n",
    "    corr_score.append(np.mean(corr_score1))\n",
    "\n",
    "    \n",
    "\n",
    "        \n",
    "    \n",
    "\n",
    "    \n",
    "\n",
    "    \n",
    "\n"
   ]
  },
  {
   "cell_type": "code",
   "execution_count": 76,
   "id": "da533f8b-d156-408f-b4e7-53893f97a3fe",
   "metadata": {},
   "outputs": [
    {
     "data": {
      "text/plain": [
       "(array([ 4.,  5., 12., 23., 55., 76., 63., 40., 20., 16.]),\n",
       " array([-0.76666667, -0.59666667, -0.42666667, -0.25666667, -0.08666667,\n",
       "         0.08333333,  0.25333333,  0.42333333,  0.59333333,  0.76333333,\n",
       "         0.93333333]),\n",
       " <BarContainer object of 10 artists>)"
      ]
     },
     "execution_count": 76,
     "metadata": {},
     "output_type": "execute_result"
    },
    {
     "data": {
      "image/png": "[encoded data removed]",
      "text/plain": [
       "<Figure size 640x480 with 1 Axes>"
      ]
     },
     "metadata": {},
     "output_type": "display_data"
    }
   ],
   "source": [
    "plt.hist(mse_score)"
   ]
  },
  {
   "cell_type": "code",
   "execution_count": 77,
   "id": "604889c0-b84c-4fc5-879a-3653ecb8297f",
   "metadata": {},
   "outputs": [
    {
     "data": {
      "text/plain": [
       "(array([  2.,   7.,   7.,  46., 130.,  85.,  24.,  10.,   1.,   2.]),\n",
       " array([-0.83333333, -0.65666667, -0.48      , -0.30333333, -0.12666667,\n",
       "         0.05      ,  0.22666667,  0.40333333,  0.58      ,  0.75666667,\n",
       "         0.93333333]),\n",
       " <BarContainer object of 10 artists>)"
      ]
     },
     "execution_count": 77,
     "metadata": {},
     "output_type": "execute_result"
    },
    {
     "data": {
      "image/png": "[encoded data removed]",
      "text/plain": [
       "<Figure size 640x480 with 1 Axes>"
      ]
     },
     "metadata": {},
     "output_type": "display_data"
    }
   ],
   "source": [
    "plt.hist(corr_score)"
   ]
  },
  {
   "cell_type": "code",
   "execution_count": 2,
   "id": "3c14d6cc-2280-4b13-af91-27615d2171d5",
   "metadata": {},
   "outputs": [],
   "source": [
    "###\n",
    "\n",
    "# 1) test with last word embedding\n",
    "# 2) concatenate the last word mse scores for each sentence to make it a big vector, Do the same for attn mask. Measure correlation \n",
    "# 3) see attn mask for last layer, all heads"
   ]
  },
  {
   "cell_type": "code",
   "execution_count": 9,
   "id": "fe8a618e",
   "metadata": {},
   "outputs": [
    {
     "data": {
      "text/plain": [
       "(17, 17)"
      ]
     },
     "execution_count": 9,
     "metadata": {},
     "output_type": "execute_result"
    }
   ],
   "source": [
    "indices=np.where(id==0)[0]\n",
    "a1=np.delete(a1,indices, axis=0)\n",
    "a1= np.delete(a1,indices, axis=1)\n",
    "\n",
    "np.shape(a1)"
   ]
  },
  {
   "cell_type": "code",
   "execution_count": 10,
   "id": "e436b0a2-d710-49ee-82a9-b9c0a9de7546",
   "metadata": {},
   "outputs": [
    {
     "data": {
      "text/plain": [
       "[' So',\n",
       " ' there',\n",
       " \"'s\",\n",
       " ' some',\n",
       " ' places',\n",
       " ' where',\n",
       " ' animals',\n",
       " ' almost',\n",
       " ' never',\n",
       " ' go',\n",
       " ',',\n",
       " ' places',\n",
       " ' that',\n",
       " ' are',\n",
       " ' designed',\n",
       " ' by',\n",
       " ' humans',\n",
       " ' for',\n",
       " ' humans',\n",
       " '.']"
      ]
     },
     "execution_count": 10,
     "metadata": {},
     "output_type": "execute_result"
    }
   ],
   "source": [
    "w1"
   ]
  },
  {
   "cell_type": "code",
   "execution_count": 11,
   "id": "9fcbd6cf-0272-4e79-9b5a-ecf70c0d211d",
   "metadata": {},
   "outputs": [
    {
     "data": {
      "text/plain": [
       "(17, 17)"
      ]
     },
     "execution_count": 11,
     "metadata": {},
     "output_type": "execute_result"
    }
   ],
   "source": [
    "c1=corr_mat[0]\n",
    "np.shape(c1)"
   ]
  },
  {
   "cell_type": "code",
   "execution_count": 12,
   "id": "0c884bca-221c-4930-b1d9-40c50e72f127",
   "metadata": {},
   "outputs": [],
   "source": [
    "a1=attn[0].detach().numpy()\n",
    "for i in range(np.shape(a1)[0]):\n",
    "    a1[i,i+1:]=-np.inf\n",
    "\n",
    "x1 = F.softmax(torch.from_numpy(a1), dim = 1)\n",
    "\n",
    "for i in range(np.shape(c1)[0]):\n",
    "    c1[i,i:]=-np.inf\n",
    "\n",
    "x2 = F.softmax(torch.from_numpy(c1), dim = 1)\n"
   ]
  },
  {
   "cell_type": "code",
   "execution_count": 30,
   "id": "3bd4433c-6f3e-4e45-980f-3f22f1234d68",
   "metadata": {},
   "outputs": [],
   "source": [
    "k=7\n",
    "input=x1[k-2,:k-1]"
   ]
  },
  {
   "cell_type": "code",
   "execution_count": 31,
   "id": "629bd20a-8480-47de-b00a-b66519afab4e",
   "metadata": {},
   "outputs": [],
   "source": [
    "k=7\n",
    "target=x2[k-1,:k-1]"
   ]
  },
  {
   "cell_type": "code",
   "execution_count": 18,
   "id": "ad56821a-d69d-486e-9922-19cf84fc3fc5",
   "metadata": {},
   "outputs": [],
   "source": [
    "loss = torch.nn.CrossEntropyLoss()\n",
    "output = loss(input, target)"
   ]
  },
  {
   "cell_type": "code",
   "execution_count": 19,
   "id": "151d48af-a786-4a48-ae63-9733ebf61cbb",
   "metadata": {},
   "outputs": [
    {
     "data": {
      "text/plain": [
       "tensor(1.3930, dtype=torch.float64)"
      ]
     },
     "execution_count": 19,
     "metadata": {},
     "output_type": "execute_result"
    }
   ],
   "source": [
    "output"
   ]
  },
  {
   "cell_type": "code",
   "execution_count": 32,
   "id": "cb377d9a-d8f7-4d50-a51c-6d33460e55e4",
   "metadata": {},
   "outputs": [
    {
     "data": {
      "text/plain": [
       "0.028571428571428574"
      ]
     },
     "execution_count": 32,
     "metadata": {},
     "output_type": "execute_result"
    }
   ],
   "source": [
    "\n",
    "res = stats.spearmanr(input, target).statistic\n",
    "res"
   ]
  },
  {
   "cell_type": "code",
   "execution_count": 26,
   "id": "84f79272-1eec-4624-bebb-b8a15fdcea58",
   "metadata": {},
   "outputs": [
    {
     "data": {
      "text/plain": [
       "-1.0"
      ]
     },
     "execution_count": 26,
     "metadata": {},
     "output_type": "execute_result"
    }
   ],
   "source": [
    "res"
   ]
  },
  {
   "cell_type": "code",
   "execution_count": 33,
   "id": "fcafe158-a295-4169-a6a1-bdf9c5e1592a",
   "metadata": {},
   "outputs": [
    {
     "data": {
      "text/plain": [
       "tensor([0.1579, 0.1642, 0.1711, 0.1764, 0.1471, 0.1833], dtype=torch.float64)"
      ]
     },
     "execution_count": 33,
     "metadata": {},
     "output_type": "execute_result"
    }
   ],
   "source": [
    "target"
   ]
  },
  {
   "cell_type": "code",
   "execution_count": 34,
   "id": "e3a5d79f-9878-4091-b006-be2ea9b620fa",
   "metadata": {},
   "outputs": [
    {
     "data": {
      "text/plain": [
       "tensor([0.2906, 0.1385, 0.1421, 0.1388, 0.1401, 0.1499])"
      ]
     },
     "execution_count": 34,
     "metadata": {},
     "output_type": "execute_result"
    }
   ],
   "source": [
    "input"
   ]
  },
  {
   "cell_type": "code",
   "execution_count": 39,
   "id": "ef766727-b743-4920-9228-ddd01618e96d",
   "metadata": {},
   "outputs": [],
   "source": [
    "mse=loadmat('mse_score_each_sentence_podcast.mat')['error_mat']"
   ]
  },
  {
   "cell_type": "code",
   "execution_count": 53,
   "id": "2e9d0615-abd6-48c9-8ae9-ad3f689326ee",
   "metadata": {},
   "outputs": [
    {
     "data": {
      "text/plain": [
       "-0.21666666666666667"
      ]
     },
     "execution_count": 53,
     "metadata": {},
     "output_type": "execute_result"
    }
   ],
   "source": [
    "x3=mse[0][1]\n",
    "k=10\n",
    "input=x1[k-2,:k-1]\n",
    "target=x3[k-1,:k-1]\n",
    "\n",
    "res = stats.spearmanr(input, target).statistic\n",
    "res"
   ]
  },
  {
   "cell_type": "code",
   "execution_count": 48,
   "id": "3d077526-05df-4f48-b373-c0653f6764be",
   "metadata": {},
   "outputs": [
    {
     "data": {
      "text/plain": [
       "array([3304.47658116, 3932.88283523, 6227.17631449, 1541.30233892,\n",
       "       3235.12558752, 2363.03427911])"
      ]
     },
     "execution_count": 48,
     "metadata": {},
     "output_type": "execute_result"
    }
   ],
   "source": [
    "target"
   ]
  },
  {
   "cell_type": "code",
   "execution_count": 49,
   "id": "2352d3ec-a4a4-42f6-876e-301cc922c091",
   "metadata": {},
   "outputs": [
    {
     "data": {
      "text/plain": [
       "tensor([0.2906, 0.1385, 0.1421, 0.1388, 0.1401, 0.1499])"
      ]
     },
     "execution_count": 49,
     "metadata": {},
     "output_type": "execute_result"
    }
   ],
   "source": [
    "input"
   ]
  },
  {
   "cell_type": "code",
   "execution_count": 56,
   "id": "e72ad10d-3656-4cf8-b856-d42751805e8b",
   "metadata": {},
   "outputs": [
    {
     "data": {
      "text/plain": [
       "21"
      ]
     },
     "execution_count": 56,
     "metadata": {},
     "output_type": "execute_result"
    }
   ],
   "source": []
  },
  {
   "cell_type": "markdown",
   "id": "a6182369-e6d4-4f06-9a38-72cbbdbd1f4c",
   "metadata": {},
   "source": [
    "## loading embeddings for different context length"
   ]
  },
  {
   "cell_type": "code",
   "execution_count": 2,
   "id": "7476dc0d-438b-475c-8d47-e1f00a8cd6aa",
   "metadata": {},
   "outputs": [],
   "source": [
    "def load_word():\n",
    "    path_ken1=\"/scratch/gpfs/arnab/sentence_encoding/embeddings/\"\n",
    "    model_size='gpt2-xl'\n",
    "    path_ken=path_ken1+model_size+'/full/'\n",
    "    os.chdir(path_ken)\n",
    "    \n",
    "    pickle_file = open(\"base_df.pkl\", \"rb\")\n",
    "    objects = []\n",
    "    \n",
    "    i=0\n",
    "    \n",
    "    while True:\n",
    "        # print('i',i)\n",
    "        try:\n",
    "    \n",
    "            objects.append(pickle.load(pickle_file))\n",
    "    \n",
    "        except EOFError:\n",
    "    \n",
    "            break\n",
    "    \n",
    "    pickle_file.close()\n",
    "    \n",
    "    a=objects[0]\n",
    "    df=pd.DataFrame(a)\n",
    "    df2=df.loc[~df.adjusted_onset.isnull() & (df.token_idx==0)] # and df.token_idx==1\n",
    "    index=df2.index\n",
    "    \n",
    "    onsets=np.squeeze(df2.adjusted_onset.values)\n",
    "    words=df2.word.values\n",
    "\n",
    "    return onsets, words, index"
   ]
  },
  {
   "cell_type": "code",
   "execution_count": 3,
   "id": "69553285-5495-4514-9bd4-b7a519eac8ba",
   "metadata": {},
   "outputs": [],
   "source": [
    "def load_embeddings(index, context, layer):\n",
    "    path_ken1=\"/scratch/gpfs/arnab/247-pickling/results/podcast/661/embeddings/\"\n",
    "    model_size='gpt2-xl'\n",
    "    path_ken=path_ken1+model_size+'/full/'\n",
    "    context_path='cnxt_00'+str(context).zfill(2)+'/layer_'+str(layer).zfill(2)+'/'\n",
    "    emb_file='NY661_111_Part1_conversation1.pkl'\n",
    "    \n",
    "    path_emb=path_ken+context_path+emb_file\n",
    "    # os.chdir(path_emb)\n",
    "    \n",
    "    # emb_file='layer_48.pkl'\n",
    "    \n",
    "    \n",
    "    pickle_file = open(path_emb, \"rb\")\n",
    "    objects = []\n",
    "    \n",
    "    i=0\n",
    "    \n",
    "    while True:\n",
    "        # print('i',i)\n",
    "        try:\n",
    "    \n",
    "            objects.append(pickle.load(pickle_file))\n",
    "    \n",
    "        except EOFError:\n",
    "    \n",
    "            break\n",
    "    \n",
    "    pickle_file.close()\n",
    "    \n",
    "    a=objects[0]\n",
    "    \n",
    "    df_emb=pd.DataFrame(a)\n",
    "    df_bert=df_emb.iloc[index]\n",
    "    w=(df_bert.embeddings.values)\n",
    "    # type(w[0])\n",
    "    # np.shape(w)\n",
    "    emb=np.zeros((len(w),np.shape(w[0])[0]))\n",
    "    for i in range(len(w)):\n",
    "        emb[i,:]=w[i]\n",
    "        \n",
    "    # print(np.shape(emb))\n",
    "    \n",
    "    pca = PCA(n_components=50)\n",
    "    emb=emb- np.mean(emb, axis=0)\n",
    "    word_embeddings=pca.fit_transform(emb)\n",
    "\n",
    "    return  word_embeddings\n",
    "\n",
    "# path=\"/scratch/gpfs/arnab/Encoding/different_size/\"\n",
    "# os.chdir(path)\n",
    "# filename=model_size+'.mat'\n",
    "# savemat(filename,{'onset':onset,'embeddings':emb})\n",
    "# del emb"
   ]
  },
  {
   "cell_type": "markdown",
   "id": "1c7b2457-e1ab-4cd4-ae67-b0e8107baa3e",
   "metadata": {},
   "source": [
    "## loading ecog"
   ]
  },
  {
   "cell_type": "code",
   "execution_count": 4,
   "id": "3b5659ac-ba7c-47ae-a6fe-81bc9844629d",
   "metadata": {},
   "outputs": [],
   "source": [
    "def load_ecog(onsets):\n",
    "\n",
    "    path='/scratch/gpfs/arnab/Encoding/'\n",
    "    os.chdir(path)\n",
    "    df_all_sub=pd.read_csv('all_subject_sig.csv')\n",
    "    # subjects=np.unique(df_all_sub['subject'])\n",
    "    subjects=[717]\n",
    "    lags=[0]\n",
    "    shift_ms=300 # this is a dummy parameter, not used\n",
    "    cv=10\n",
    "    \n",
    "    electrodes1=[]\n",
    "    elec_num=[]\n",
    "    for qq in range(len(subjects)):\n",
    "        \n",
    "        subject=subjects[qq]\n",
    "        #print('subject:',subject)\n",
    "        s=np.array(df_all_sub.loc[df_all_sub.subject==subject].matfile)\n",
    "        electrodes1.append(s)\n",
    "        elec_num.append(len(s))\n",
    "    \n",
    "    Y_data= np.zeros((len(subjects),len(lags),len(onsets),max(elec_num))) #45 is the electrode number here\n",
    "    \n",
    "    for qq in range(len(subjects)):\n",
    "        \n",
    "        subject=subjects[qq]\n",
    "        print('subject:',subject)\n",
    "        \n",
    "        electrodes=electrodes1[qq]\n",
    "        # elec_num.append(len(electrodes))\n",
    "        \n",
    "        if qq==0:\n",
    "            path=os.path.join(os.pardir,'significant_electrode_podcast',str(subject))\n",
    "        else:\n",
    "            path=os.path.join(os.pardir,str(subject))\n",
    "    \n",
    "        os.chdir(path)\n",
    "        \n",
    "        ecogs=[]\n",
    "        for i in electrodes:\n",
    "            filename='NY'+str(subject)+'_111_Part1_conversation1_electrode_preprocess_file_'+str(i)+'.mat'\n",
    "            \n",
    "            e=loadmat(filename)['p1st'].squeeze().astype(np.float32)\n",
    "            ecogs.append(e)\n",
    "            \n",
    "        ecogs = np.asarray(ecogs).T\n",
    "    \n",
    "        window_size=200\n",
    "    \n",
    "        half_window = round((window_size / 1000) * 512 / 2)\n",
    "        #t = len(brain_signal)\n",
    "        t=len(ecogs[:,0])\n",
    "     \n",
    "        Y= np.zeros((len(onsets), np.shape(ecogs)[1]))\n",
    "        \n",
    "            \n",
    "        for ii in range(len(lags)):\n",
    "            Y1 = np.zeros((len(onsets), 2 * half_window + 1))\n",
    "            #print(ii)\n",
    "            for k in range(np.shape(ecogs)[1]):\n",
    "        \n",
    "                brain_signal=ecogs[:,k]\n",
    "                #from numba import jit, prange\n",
    "                \n",
    "                # for lag in prange(len(lags)):\n",
    "                \n",
    "                lag_amount = int(lags[ii]/ 1000 * 512)\n",
    "                \n",
    "                index_onsets = np.minimum(\n",
    "                    t - half_window - 1,\n",
    "                    np.maximum(half_window + 1,\n",
    "                                np.round(onsets, 0, onsets) + lag_amount))\n",
    "                \n",
    "                # subtracting 1 from starts to account for 0-indexing\n",
    "                starts = index_onsets - half_window - 1\n",
    "                stops = index_onsets + half_window\n",
    "                \n",
    "                for i, (start, stop) in enumerate(zip(starts, stops)):\n",
    "                    start=int(start)\n",
    "                    stop=int(stop)\n",
    "                    Y1[i, :] = brain_signal[start:stop].reshape(-1)\n",
    "                    \n",
    "                                    \n",
    "                #if subject==717:\n",
    "                   \n",
    "                Y_data[qq,ii,:,k] = np.mean(Y1, axis=-1)\n",
    "                # if subject==742:\n",
    "                #     Y_742[ii,:,k] = np.mean(Y1, axis=-1)\n",
    "                # if subject==798:\n",
    "                #     Y_798[ii,:,k] = np.mean(Y1, axis=-1)\n",
    "    \n",
    "    Y=Y_data[0,0,:,:]\n",
    "    return Y"
   ]
  },
  {
   "cell_type": "markdown",
   "id": "1113e6b7-2d01-481b-97e3-aa30ffebaf62",
   "metadata": {},
   "source": [
    "## sliding window"
   ]
  },
  {
   "cell_type": "code",
   "execution_count": 5,
   "id": "bfcf49f0-bdf9-46de-9480-c0029e642f96",
   "metadata": {},
   "outputs": [],
   "source": [
    "# start=4000\n",
    "# context=10\n",
    "\n",
    "def sliding_window(start, context,Y,word_embeddings,words):\n",
    "    Y_train=Y[0:start,:]\n",
    "    emb_train=word_embeddings[0:start,:]\n",
    "    \n",
    "    encoding_model = LinearRegression().fit(emb_train,Y_train)\n",
    "    \n",
    "    \n",
    "    # sentence prep\n",
    "    sentence=[]\n",
    "    for i in range(start+context,len(words)):\n",
    "    # i=10\n",
    "        a=words[i-context:i]\n",
    "        \n",
    "        s=[]\n",
    "        s=(a[0].replace(\" \", \"\"))\n",
    "        for k in range(1,context):\n",
    "            s=s+' '+(a[k].replace(\" \", \"\"))\n",
    "    \n",
    "        sentence.append(s)\n",
    "\n",
    "    sliding_error=[]\n",
    "    original_error=[]\n",
    "    corr=[]\n",
    "    \n",
    "    for k in range(start+context,len(words)):\n",
    "        \n",
    "        Y_test=Y[k-context :k,:]\n",
    "        emb_test=np.tile(word_embeddings[k-1,:],(context,1))\n",
    "        aa=encoding_model.predict(emb_test)\n",
    "        error2=((Y_test-aa)**2)\n",
    "        error=np.zeros((np.shape(error2)[0]-1,np.shape(error2)[1]))\n",
    "        \n",
    "        for q in range(np.shape(error2)[1]):\n",
    "            x=1/(error2[:,q]/error2[context-1,q])\n",
    "            ind=np.where(x>5)\n",
    "            x[ind]=5 ## chenge this parameter\n",
    "            error[:,q]=softmax(x[:-1])\n",
    "\n",
    "        a=[]\n",
    "        for kk in range(np.shape(error2)[0]):\n",
    "\n",
    "            a.append(np.corrcoef(aa[kk,:],Y_test[kk,:])[0,1])\n",
    "\n",
    "        corr.append(np.asarray(a))\n",
    "        sliding_error.append(error)\n",
    "        original_error.append(error2)\n",
    "        \n",
    "    # sentence    \n",
    "    return sentence, sliding_error, original_error,corr"
   ]
  },
  {
   "cell_type": "code",
   "execution_count": 14,
   "id": "5ca34efc-eb3c-4263-b2a4-ae9da6000eed",
   "metadata": {},
   "outputs": [
    {
     "ename": "NameError",
     "evalue": "name 'word_embeddings' is not defined",
     "output_type": "error",
     "traceback": [
      "\u001b[0;31m---------------------------------------------------------------------------\u001b[0m",
      "\u001b[0;31mNameError\u001b[0m                                 Traceback (most recent call last)",
      "Cell \u001b[0;32mIn[14], line 1\u001b[0m\n\u001b[0;32m----> 1\u001b[0m np\u001b[38;5;241m.\u001b[39mshape(word_embeddings)\n",
      "\u001b[0;31mNameError\u001b[0m: name 'word_embeddings' is not defined"
     ]
    }
   ],
   "source": [
    "np.shape(word_embeddings)"
   ]
  },
  {
   "cell_type": "code",
   "execution_count": 15,
   "id": "6c6fc4fd-2f5b-4651-98e0-e16781a45563",
   "metadata": {},
   "outputs": [],
   "source": [
    "def sliding_error(encoding_model,Y,word_embeddings,context,words):\n",
    "    \n",
    "    sliding_error=[]\n",
    "    for k in range(start+context,len(words)):\n",
    "        \n",
    "        Y_test=Y[k-context :k,:]\n",
    "        emb_test=np.tile(word_embeddings[k-1,:],(context,1))\n",
    "        aa=encoding_model.predict(emb_test)\n",
    "        error2=((Y_test-aa)**2)\n",
    "        error=np.zeros((np.shape(error2)[0]-1,np.shape(error2)[1]))\n",
    "        \n",
    "        for q in range(np.shape(error2)[1]):\n",
    "            x=1/(error2[:,q]/error2[context-1,q])\n",
    "            ind=np.where(x>5)\n",
    "            x[ind]=5 ## chenge this parameter\n",
    "            error[:,q]=softmax(x[:-1])\n",
    "    \n",
    "        \n",
    "        sliding_error.append(error)\n",
    "        # np.shape(error)\n",
    "\n",
    "    return sliding_error"
   ]
  },
  {
   "cell_type": "code",
   "execution_count": 10,
   "id": "4fc98c6f-10c1-42c1-ad9b-3a3580fcede2",
   "metadata": {},
   "outputs": [
    {
     "data": {
      "text/plain": [
       "987"
      ]
     },
     "execution_count": 10,
     "metadata": {},
     "output_type": "execute_result"
    }
   ],
   "source": [
    "len(sliding_error)"
   ]
  },
  {
   "cell_type": "code",
   "execution_count": 18,
   "id": "9c8bab02-9d49-4b59-a851-ec55f0774f95",
   "metadata": {},
   "outputs": [
    {
     "data": {
      "text/plain": [
       "[<matplotlib.lines.Line2D at 0x14903419ec30>]"
      ]
     },
     "execution_count": 18,
     "metadata": {},
     "output_type": "execute_result"
    },
    {
     "data": {
      "image/png": "[encoded data removed]",
      "text/plain": [
       "<Figure size 640x480 with 1 Axes>"
      ]
     },
     "metadata": {},
     "output_type": "display_data"
    }
   ],
   "source": [
    "plt.plot(error[:,20])\n"
   ]
  },
  {
   "cell_type": "markdown",
   "id": "6d9bb102-f41f-46d4-a111-bf7bbebf9eb7",
   "metadata": {},
   "source": [
    "## Analysis with sliding window"
   ]
  },
  {
   "cell_type": "code",
   "execution_count": 6,
   "id": "7bc7a250-1d7e-4504-87f6-f7ba4f746629",
   "metadata": {},
   "outputs": [],
   "source": [
    "def load_pickle(file_path):\n",
    "    \n",
    "    pickle_file = open(file_path, \"rb\")\n",
    "    objects = []\n",
    "\n",
    "    i=0\n",
    "\n",
    "    while True:\n",
    "        # print('i',i)\n",
    "        try:\n",
    "\n",
    "            objects.append(pickle.load(pickle_file))\n",
    "\n",
    "        except EOFError:\n",
    "\n",
    "            break\n",
    "\n",
    "    pickle_file.close()\n",
    "\n",
    "    a=objects[0]\n",
    "    \n",
    "    return a\n",
    "\n",
    "def load_label(filepath):\n",
    "\n",
    "    with open(filepath, \"rb\") as f:\n",
    "        full_labels = pickle.load(f)\n",
    "        #labels_df = pd.DataFrame(full_labels[\"labels\"])\n",
    "        labels_df = pd.DataFrame(full_labels)\n",
    "\n",
    "    # labels_df[\"audio_onset\"] = ((labels_df.onset + 3000) / 512)\n",
    "    # labels_df[\"audio_offset\"] = ((labels_df.offset + 3000) / 512)\n",
    "\n",
    "    # labels_df = labels_df.dropna(subset=[\"audio_onset\", \"audio_offset\"])\n",
    "    \n",
    "\n",
    "    return labels_df\n",
    "\n",
    "def kl_divergence(p, q):\n",
    "    return np.sum(np.where(p != 0, p * np.log(p / q), 0))"
   ]
  },
  {
   "cell_type": "code",
   "execution_count": 13,
   "id": "7b3c98c7-a57a-45be-8950-34b2907e73dc",
   "metadata": {},
   "outputs": [
    {
     "name": "stdout",
     "output_type": "stream",
     "text": [
      "subject: 717\n",
      "layer: 2\n",
      "context: 10\n"
     ]
    }
   ],
   "source": [
    "# df_head=pd.DataFrame()\n",
    "contexts=[10]\n",
    "layers=[2]#list(range(1,48,1))\n",
    "heads=[16]#,21,23]#np.arange(1,2)\n",
    "\n",
    "###for layer 2 heads=[1,9,16,21,23]\n",
    "#### for layer 48, heads [1,3,4,10,14,22,]\n",
    "\n",
    "start=4000\n",
    "k=0\n",
    "# loss = torch.nn.CrossEntropyLoss()\n",
    "onsets, words, index=load_word()\n",
    "Y=load_ecog(onsets)\n",
    "\n",
    "for layer in layers:\n",
    "    print('layer:',layer)\n",
    "    for context in contexts: \n",
    "        \n",
    "        word_embeddings=load_embeddings(index, context, layer)\n",
    "        \n",
    "        sentence,sliding_error,original_error,corr=sliding_window(start, context,Y,word_embeddings,words)\n",
    "\n",
    "        print('context:',context)\n",
    "        \n",
    "        a1=[]\n",
    "        a2=[]\n",
    "\n",
    "        # head_kl1=[]\n",
    "        # head_cross_entropy1=[]\n",
    "\n",
    "        \n",
    "        for head in heads:\n",
    "            name='attention_gpt2-xl_layer_'+str(layer)+'_head_'+str(head)+'_context_'+str(context)+'.pkl'\n",
    "            \n",
    "            pickle_file_path='/scratch/gpfs/arnab/sentence_encoding/results/gpt2-xl/layer_'+str(layer)+'/context_'+str(context)+'/'+name\n",
    "            df_attn=load_pickle(pickle_file_path)\n",
    "            attn=df_attn['attention_mask']\n",
    "            \n",
    "            spearman_corr_score=[]\n",
    "            pearson_corr_score=[]\n",
    "            output=[]\n",
    "            kl=[]\n",
    "            wassertain=[]\n",
    "            \n",
    "            \n",
    "            elec=36\n",
    "            \n",
    "            for sentence in range(len(attn)):\n",
    "                x1=attn[sentence] ##attention mask\n",
    "                # x1=softmax(x1)\n",
    "                x1=x1/np.sum(x1)\n",
    "\n",
    "            \n",
    "                a1.extend(x1)\n",
    "                \n",
    "                x2 = sliding_error[sentence].mean(axis=1)  ##average of all the electrodes  \n",
    "                # x2 = sliding_error[sentence][:,elec]  ##selected electrode\n",
    "            \n",
    "                a2.extend(x2)\n",
    "                \n",
    "                # spearman_corr_score.append(stats.spearmanr(x1, x2).statistic)    \n",
    "                # pearson_corr_score.append(np.corrcoef(x1,x2)[0,1])\n",
    "                # output.append(loss(torch.from_numpy(x1), torch.from_numpy(x2)))\n",
    "                # output.append(loss(torch.from_numpy(x1), torch.from_numpy(x2)))\n",
    "                kl.append(kl_divergence(x1,x2))\n",
    "                # wassertain.append(wasserstein_distance(x1,x2))\n",
    "\n",
    "            \n",
    "        \n",
    "        \n",
    "            \n",
    "        # print(np.mean(pearson_corr_score))\n",
    "        # print(np.mean(spearman_corr_score))\n",
    "        \n",
    "            \n",
    "            # print(np.corrcoef(a1,a2)[0,1])\n",
    "            # print(stats.spearmanr(a1, a2).statistic)\n",
    "            # head_cross_entropy1.append(np.mean(output))  \n",
    "            # # print(np.std(output))  \n",
    "            # head_kl1.append(np.mean(kl))\n",
    "        \n",
    "            # df_head.loc[k,'layer']=layer\n",
    "            # df_head.loc[k,'head_kl']=np.mean(kl)\n",
    "            # # df_head.loc[k,'cross_entropy']=np.mean(output)\n",
    "            # df_head.loc[k,'context']=context\n",
    "            # # df_head.loc[k,'wassertain']=np.mean(wassertain)\n",
    "            # k=k+1\n",
    "            \n",
    "\n"
   ]
  },
  {
   "cell_type": "code",
   "execution_count": null,
   "id": "d5521d37-59ac-4c6c-b069-98c526b57464",
   "metadata": {},
   "outputs": [],
   "source": [
    "df_head"
   ]
  },
  {
   "cell_type": "code",
   "execution_count": 45,
   "id": "a0979515-cdfa-413b-87c5-4394706a765d",
   "metadata": {},
   "outputs": [],
   "source": [
    "df_head['family']=df_head.layer.values"
   ]
  },
  {
   "cell_type": "code",
   "execution_count": 46,
   "id": "5ac979ee-479a-4b98-bf8c-b074516b60d8",
   "metadata": {},
   "outputs": [
    {
     "data": {
      "text/html": [
       "<div>\n",
       "<style scoped>\n",
       "    .dataframe tbody tr th:only-of-type {\n",
       "        vertical-align: middle;\n",
       "    }\n",
       "\n",
       "    .dataframe tbody tr th {\n",
       "        vertical-align: top;\n",
       "    }\n",
       "\n",
       "    .dataframe thead th {\n",
       "        text-align: right;\n",
       "    }\n",
       "</style>\n",
       "<table border=\"1\" class=\"dataframe\">\n",
       "  <thead>\n",
       "    <tr style=\"text-align: right;\">\n",
       "      <th></th>\n",
       "      <th>layer</th>\n",
       "      <th>head_kl</th>\n",
       "      <th>cross_entropy</th>\n",
       "      <th>context</th>\n",
       "      <th>wassertain</th>\n",
       "      <th>family</th>\n",
       "    </tr>\n",
       "  </thead>\n",
       "  <tbody>\n",
       "    <tr>\n",
       "      <th>0</th>\n",
       "      <td>1.0</td>\n",
       "      <td>0.253319</td>\n",
       "      <td>2.200437</td>\n",
       "      <td>10.0</td>\n",
       "      <td>0.038181</td>\n",
       "      <td>1.0</td>\n",
       "    </tr>\n",
       "    <tr>\n",
       "      <th>1</th>\n",
       "      <td>1.0</td>\n",
       "      <td>0.168532</td>\n",
       "      <td>2.199252</td>\n",
       "      <td>10.0</td>\n",
       "      <td>0.028602</td>\n",
       "      <td>1.0</td>\n",
       "    </tr>\n",
       "    <tr>\n",
       "      <th>2</th>\n",
       "      <td>1.0</td>\n",
       "      <td>0.397507</td>\n",
       "      <td>2.202876</td>\n",
       "      <td>10.0</td>\n",
       "      <td>0.059443</td>\n",
       "      <td>1.0</td>\n",
       "    </tr>\n",
       "    <tr>\n",
       "      <th>3</th>\n",
       "      <td>1.0</td>\n",
       "      <td>0.594323</td>\n",
       "      <td>2.210626</td>\n",
       "      <td>10.0</td>\n",
       "      <td>0.083216</td>\n",
       "      <td>1.0</td>\n",
       "    </tr>\n",
       "    <tr>\n",
       "      <th>4</th>\n",
       "      <td>1.0</td>\n",
       "      <td>0.422119</td>\n",
       "      <td>2.205095</td>\n",
       "      <td>10.0</td>\n",
       "      <td>0.063432</td>\n",
       "      <td>1.0</td>\n",
       "    </tr>\n",
       "    <tr>\n",
       "      <th>...</th>\n",
       "      <td>...</td>\n",
       "      <td>...</td>\n",
       "      <td>...</td>\n",
       "      <td>...</td>\n",
       "      <td>...</td>\n",
       "      <td>...</td>\n",
       "    </tr>\n",
       "    <tr>\n",
       "      <th>495</th>\n",
       "      <td>10.0</td>\n",
       "      <td>1.676374</td>\n",
       "      <td>3.895682</td>\n",
       "      <td>50.0</td>\n",
       "      <td>0.021679</td>\n",
       "      <td>10.0</td>\n",
       "    </tr>\n",
       "    <tr>\n",
       "      <th>496</th>\n",
       "      <td>10.0</td>\n",
       "      <td>2.087678</td>\n",
       "      <td>3.896862</td>\n",
       "      <td>50.0</td>\n",
       "      <td>0.025939</td>\n",
       "      <td>10.0</td>\n",
       "    </tr>\n",
       "    <tr>\n",
       "      <th>497</th>\n",
       "      <td>10.0</td>\n",
       "      <td>1.464871</td>\n",
       "      <td>3.895218</td>\n",
       "      <td>50.0</td>\n",
       "      <td>0.019440</td>\n",
       "      <td>10.0</td>\n",
       "    </tr>\n",
       "    <tr>\n",
       "      <th>498</th>\n",
       "      <td>10.0</td>\n",
       "      <td>1.780691</td>\n",
       "      <td>3.894786</td>\n",
       "      <td>50.0</td>\n",
       "      <td>0.024326</td>\n",
       "      <td>10.0</td>\n",
       "    </tr>\n",
       "    <tr>\n",
       "      <th>499</th>\n",
       "      <td>10.0</td>\n",
       "      <td>1.737789</td>\n",
       "      <td>3.893750</td>\n",
       "      <td>50.0</td>\n",
       "      <td>0.025884</td>\n",
       "      <td>10.0</td>\n",
       "    </tr>\n",
       "  </tbody>\n",
       "</table>\n",
       "<p>500 rows × 6 columns</p>\n",
       "</div>"
      ],
      "text/plain": [
       "     layer   head_kl  cross_entropy  context  wassertain  family\n",
       "0      1.0  0.253319       2.200437     10.0    0.038181     1.0\n",
       "1      1.0  0.168532       2.199252     10.0    0.028602     1.0\n",
       "2      1.0  0.397507       2.202876     10.0    0.059443     1.0\n",
       "3      1.0  0.594323       2.210626     10.0    0.083216     1.0\n",
       "4      1.0  0.422119       2.205095     10.0    0.063432     1.0\n",
       "..     ...       ...            ...      ...         ...     ...\n",
       "495   10.0  1.676374       3.895682     50.0    0.021679    10.0\n",
       "496   10.0  2.087678       3.896862     50.0    0.025939    10.0\n",
       "497   10.0  1.464871       3.895218     50.0    0.019440    10.0\n",
       "498   10.0  1.780691       3.894786     50.0    0.024326    10.0\n",
       "499   10.0  1.737789       3.893750     50.0    0.025884    10.0\n",
       "\n",
       "[500 rows x 6 columns]"
      ]
     },
     "execution_count": 46,
     "metadata": {},
     "output_type": "execute_result"
    }
   ],
   "source": [
    "df_head"
   ]
  },
  {
   "cell_type": "code",
   "execution_count": 308,
   "id": "89f01eae-bd07-4d7a-a0d5-b96d08349403",
   "metadata": {},
   "outputs": [
    {
     "data": {
      "image/png": "[encoded data removed]",
      "text/plain": [
       "<Figure size 640x480 with 1 Axes>"
      ]
     },
     "metadata": {},
     "output_type": "display_data"
    }
   ],
   "source": [
    "snsplt = sns.lineplot(\n",
    "    data=df_head, #loc[df_head.context==10],\n",
    "    x=\"layer\",\n",
    "    y=\"head_kl\",\n",
    "    hue=\"context\",\n",
    "    marker=\"o\",\n",
    "    markersize=10,\n",
    "    # alpha = 0.5,\n",
    "    \n",
    "    linestyle='',\n",
    "    err_style='bars',\n",
    "    errorbar=\"se\",)\n",
    "    # hue_order=[\"gpt2\",\"llama2\",\"opt\",\"gpt-neo\",\"llama2-q\",\"opt-q\"]\n",
    "    # hue_order=[\"gpt2\",\"llama2-q\",\"opt-q\",\"gpt-neo\"]\n",
    "\n",
    "# snsplt = sns.lineplot(\n",
    "#     data=df_head.loc[df_head.context==50],\n",
    "#     x=\"layer\",\n",
    "#     y=\"head_kl\",\n",
    "#     hue=\"family\",\n",
    "#     marker=\"\",\n",
    "#     markersize=10,\n",
    "#     # alpha = 0.5,\n",
    "#     linestyle='',\n",
    "#     err_style='bars',\n",
    "#     errorbar=\"se\",)\n",
    "#     # hue_order=[\"gpt2\",\"llama2\",\"opt\",\"gpt-neo\",\"llama2-q\",\"opt-q\"]\n",
    "#     # hue_order=[\"gpt2\",\"llama2-q\",\"opt-q\",\"gpt-neo\"]\n",
    "# fig = snsplt.get_figure()\n",
    "# fig.savefig(\"/scratch/gpfs/arnab/sentence_encoding/out.png\",dpi=600) "
   ]
  },
  {
   "cell_type": "code",
   "execution_count": 78,
   "id": "fef3d9d9-cd9e-4ee3-8521-18577c7c9185",
   "metadata": {},
   "outputs": [],
   "source": [
    "df_head=pd.read_csv('layers_1_10_context_10_50.csv')"
   ]
  },
  {
   "cell_type": "code",
   "execution_count": 19,
   "id": "66bc990c-4cde-4495-99a3-3d72676032d6",
   "metadata": {},
   "outputs": [
    {
     "name": "stdout",
     "output_type": "stream",
     "text": [
      "21\n",
      "PearsonRResult(statistic=0.36435096446476045, pvalue=0.10441649075662839)\n",
      "21\n"
     ]
    },
    {
     "data": {
      "image/png": "[encoded data removed]",
      "text/plain": [
       "<Figure size 640x480 with 1 Axes>"
      ]
     },
     "metadata": {},
     "output_type": "display_data"
    }
   ],
   "source": [
    "value=0.6\n",
    "ind4=np.where(np.asarray(a1)>value)[-1]\n",
    "print(len(ind4))\n",
    "a1=np.asarray(a1)\n",
    "a2=np.asarray(a2)\n",
    "r=scipy.stats.pearsonr(a1[ind4],a2[ind4])[0]\n",
    "plt.scatter(a1[ind4],a2[ind4])\n",
    "plt.title(f\"r=%f\" % r)\n",
    "\n",
    "print(scipy.stats.pearsonr(a1[ind4],a2[ind4]))\n",
    "print(len(ind4))\n",
    "plt.xlabel('model prediction')\n",
    "plt.ylabel('brain prediction')\n",
    "\n",
    "# plt.savefig('/scratch/gpfs/arnab/sentence_encoding/results/t_n_calculation/layer_2.png',dpi=600)\n",
    "plt.show()"
   ]
  },
  {
   "cell_type": "code",
   "execution_count": null,
   "id": "2afce213-49d0-4b4d-b843-f24b5829b1b0",
   "metadata": {},
   "outputs": [],
   "source": []
  },
  {
   "cell_type": "code",
   "execution_count": 297,
   "id": "7d87ce9a-f81e-4059-b160-a803827abe51",
   "metadata": {},
   "outputs": [],
   "source": [
    "# df.loc[~df.adjusted_onset.isnull() & (df.token_idx==0)] # and df.token_idx==1\n",
    "# df_head=df_head.reset_index(drop=True)\n",
    "a_10=df_head.loc[(df_head.layer==40) & (df_head.context==10)].head_kl.values\n",
    "a_50=df_head.loc[(df_head.layer==40) & (df_head.context==50)].head_kl.values\n",
    "\n",
    "# b_10=df_head.loc[(df_head.layer==48) & (df_head.context==10)].cross_entropy.values\n",
    "# b_50=df_head.loc[(df_head.layer==48) & (df_head.context==50)].cross_entropy.values"
   ]
  },
  {
   "cell_type": "code",
   "execution_count": 299,
   "id": "7c834fcf-077b-4b41-9554-70baf046f07b",
   "metadata": {},
   "outputs": [
    {
     "data": {
      "text/plain": [
       "array([0.86283688, 0.33086592, 0.97741133, 0.7791785 , 0.77024711,\n",
       "       0.81431765, 0.85223865, 1.04849871, 0.69671497, 0.84136732,\n",
       "       0.73701386, 1.23810513, 0.92854832, 0.95423837, 0.69228689,\n",
       "       0.89898524, 0.69707244, 0.37893621, 1.36219934, 0.69137481,\n",
       "       0.66421495, 0.89527696, 1.02563463, 1.05109114, 0.94405067])"
      ]
     },
     "execution_count": 299,
     "metadata": {},
     "output_type": "execute_result"
    }
   ],
   "source": [
    "a_50-a_10"
   ]
  },
  {
   "cell_type": "code",
   "execution_count": 298,
   "id": "0a442a70-7ed6-4e41-900c-67ff12fbaa63",
   "metadata": {},
   "outputs": [
    {
     "data": {
      "text/plain": [
       "[<matplotlib.lines.Line2D at 0x15372f412570>]"
      ]
     },
     "execution_count": 298,
     "metadata": {},
     "output_type": "execute_result"
    },
    {
     "data": {
      "image/png": "[encoded data removed]",
      "text/plain": [
       "<Figure size 640x480 with 1 Axes>"
      ]
     },
     "metadata": {},
     "output_type": "display_data"
    }
   ],
   "source": [
    "plt.plot(a_10)\n",
    "plt.plot(a_50,'r')"
   ]
  },
  {
   "cell_type": "code",
   "execution_count": 111,
   "id": "9a879429-1e27-48b2-9685-41299d17334b",
   "metadata": {},
   "outputs": [
    {
     "data": {
      "text/plain": [
       "[<matplotlib.lines.Line2D at 0x1518e2ada4b0>]"
      ]
     },
     "execution_count": 111,
     "metadata": {},
     "output_type": "execute_result"
    },
    {
     "data": {
      "image/png": "[encoded data removed]",
      "text/plain": [
       "<Figure size 640x480 with 1 Axes>"
      ]
     },
     "metadata": {},
     "output_type": "display_data"
    }
   ],
   "source": [
    "plt.plot(b_10)\n",
    "plt.plot(b_50,'r')"
   ]
  },
  {
   "cell_type": "code",
   "execution_count": 113,
   "id": "8d2274dc-77f0-4cff-bf55-0fab0c58ed82",
   "metadata": {},
   "outputs": [
    {
     "data": {
      "text/plain": [
       "986"
      ]
     },
     "execution_count": 113,
     "metadata": {},
     "output_type": "execute_result"
    }
   ],
   "source": [
    "sentence"
   ]
  },
  {
   "cell_type": "code",
   "execution_count": 134,
   "id": "57c3bdeb-d15d-42f9-a943-e91dcf635f9d",
   "metadata": {},
   "outputs": [
    {
     "name": "stdout",
     "output_type": "stream",
     "text": [
      "-0.024597005975642534\n"
     ]
    },
    {
     "data": {
      "text/plain": [
       "(array([  4.,  23.,  71., 174., 258., 212., 155.,  68.,  17.,   5.]),\n",
       " array([-0.49857143, -0.40244898, -0.30632653, -0.21020408, -0.11408163,\n",
       "        -0.01795918,  0.07816327,  0.17428571,  0.27040816,  0.36653061,\n",
       "         0.46265306]),\n",
       " <BarContainer object of 10 artists>)"
      ]
     },
     "execution_count": 134,
     "metadata": {},
     "output_type": "execute_result"
    },
    {
     "data": {
      "image/png": "[encoded data removed]",
      "text/plain": [
       "<Figure size 640x480 with 1 Axes>"
      ]
     },
     "metadata": {},
     "output_type": "display_data"
    }
   ],
   "source": [
    "print(np.mean(spearman_corr_score))\n",
    "plt.hist(spearman_corr_score)"
   ]
  },
  {
   "cell_type": "code",
   "execution_count": 115,
   "id": "12717139-3867-4781-946e-b0b3eae2c642",
   "metadata": {},
   "outputs": [
    {
     "name": "stdout",
     "output_type": "stream",
     "text": [
      "-0.008137726341983042\n"
     ]
    },
    {
     "data": {
      "text/plain": [
       "(array([ 14.,  25., 100., 198., 247., 218., 112.,  53.,  17.,   3.]),\n",
       " array([-0.44096763, -0.34783403, -0.25470042, -0.16156682, -0.06843322,\n",
       "         0.02470039,  0.11783399,  0.21096759,  0.3041012 ,  0.3972348 ,\n",
       "         0.4903684 ]),\n",
       " <BarContainer object of 10 artists>)"
      ]
     },
     "execution_count": 115,
     "metadata": {},
     "output_type": "execute_result"
    },
    {
     "data": {
      "image/png": "[encoded data removed]",
      "text/plain": [
       "<Figure size 640x480 with 1 Axes>"
      ]
     },
     "metadata": {},
     "output_type": "display_data"
    }
   ],
   "source": [
    "print(np.mean(pearson_corr_score))\n",
    "plt.hist(pearson_corr_score)"
   ]
  },
  {
   "cell_type": "code",
   "execution_count": 15,
   "id": "f3dc4ee3-d649-45b5-bd50-0cdf19226bd3",
   "metadata": {},
   "outputs": [
    {
     "data": {
      "text/plain": [
       "(array([326., 385., 164.,  71.,  31.,  31.,  10.,   5.,   1.,   3.]),\n",
       " array([0.03837594, 0.44142439, 0.84447284, 1.24752129, 1.65056974,\n",
       "        2.0536182 , 2.45666665, 2.8597151 , 3.26276355, 3.665812  ,\n",
       "        4.06886045]),\n",
       " <BarContainer object of 10 artists>)"
      ]
     },
     "execution_count": 15,
     "metadata": {},
     "output_type": "execute_result"
    },
    {
     "data": {
      "image/png": "[encoded data removed]",
      "text/plain": [
       "<Figure size 640x480 with 1 Axes>"
      ]
     },
     "metadata": {},
     "output_type": "display_data"
    }
   ],
   "source": [
    "plt.hist(kl)"
   ]
  },
  {
   "cell_type": "code",
   "execution_count": 6,
   "id": "eb212862-1e34-4ce7-90b4-b9066fed5518",
   "metadata": {},
   "outputs": [
    {
     "name": "stdout",
     "output_type": "stream",
     "text": [
      "i 0\n",
      "i 0\n"
     ]
    },
    {
     "ename": "NameError",
     "evalue": "name 'index' is not defined",
     "output_type": "error",
     "traceback": [
      "\u001b[0;31m---------------------------------------------------------------------------\u001b[0m",
      "\u001b[0;31mNameError\u001b[0m                                 Traceback (most recent call last)",
      "Cell \u001b[0;32mIn[6], line 29\u001b[0m\n\u001b[1;32m     26\u001b[0m a\u001b[38;5;241m=\u001b[39mobjects[\u001b[38;5;241m0\u001b[39m]\n\u001b[1;32m     28\u001b[0m df_emb\u001b[38;5;241m=\u001b[39mpd\u001b[38;5;241m.\u001b[39mDataFrame(a)\n\u001b[0;32m---> 29\u001b[0m df_bert\u001b[38;5;241m=\u001b[39mdf_emb\u001b[38;5;241m.\u001b[39miloc[index]\n\u001b[1;32m     30\u001b[0m w\u001b[38;5;241m=\u001b[39m(df_bert\u001b[38;5;241m.\u001b[39membeddings\u001b[38;5;241m.\u001b[39mvalues)\n\u001b[1;32m     31\u001b[0m \u001b[38;5;66;03m# type(w[0])\u001b[39;00m\n\u001b[1;32m     32\u001b[0m \u001b[38;5;66;03m# np.shape(w)\u001b[39;00m\n",
      "\u001b[0;31mNameError\u001b[0m: name 'index' is not defined"
     ]
    }
   ],
   "source": [
    "path_ken1=\"/scratch/gpfs/arnab/247-pickling/results/podcast/661/embeddings//\"\n",
    "model_size='gpt2-xl'\n",
    "path_ken=path_ken1+model_size+'/full/'\n",
    "path_emb=path_ken+'cnxt_0050/layer_25/'\n",
    "os.chdir(path_emb)\n",
    "\n",
    "emb_file='NY661_111_Part1_conversation1.pkl'\n",
    "\n",
    "pickle_file = open(emb_file, \"rb\")\n",
    "objects = []\n",
    "\n",
    "i=0\n",
    "\n",
    "while True:\n",
    "    print('i',i)\n",
    "    try:\n",
    "\n",
    "        objects.append(pickle.load(pickle_file))\n",
    "\n",
    "    except EOFError:\n",
    "\n",
    "        break\n",
    "\n",
    "pickle_file.close()\n",
    "\n",
    "a=objects[0]\n",
    "\n",
    "df_emb=pd.DataFrame(a)\n",
    "df_bert=df_emb.iloc[index]\n",
    "w=(df_bert.embeddings.values)\n",
    "# type(w[0])\n",
    "# np.shape(w)\n",
    "emb=np.zeros((len(w),np.shape(w[0])[0]))\n",
    "for i in range(len(w)):\n",
    "    emb[i,:]=w[i]\n",
    "    \n",
    "print(np.shape(emb))\n",
    "\n",
    "pca = PCA(n_components=50)\n",
    "emb=emb- np.mean(emb, axis=0)\n",
    "word_embeddings=pca.fit_transform(emb)\n",
    "\n",
    "# path=\"/scratch/gpfs/arnab/Encoding/different_size/\"\n",
    "# os.chdir(path)\n",
    "# filename=model_size+'.mat'\n",
    "# savemat(filename,{'onset':onset,'embeddings':emb})\n",
    "# del emb"
   ]
  },
  {
   "cell_type": "code",
   "execution_count": 7,
   "id": "2e726a16-62dc-4819-99ce-c047bf7c6ce8",
   "metadata": {},
   "outputs": [
    {
     "data": {
      "text/plain": [
       "Index(['topk_pred', 'topk_pred_prob', 'true_pred_prob', 'true_pred_rank',\n",
       "       'surprise', 'entropy', 'embeddings'],\n",
       "      dtype='object')"
      ]
     },
     "execution_count": 7,
     "metadata": {},
     "output_type": "execute_result"
    }
   ],
   "source": [
    "df_emb.columns"
   ]
  },
  {
   "cell_type": "code",
   "execution_count": 13,
   "id": "c1bdcdd5-7558-4dad-8200-e69cfb2d66aa",
   "metadata": {},
   "outputs": [],
   "source": [
    "for k in range(47):\n",
    "\n",
    "    path1='/scratch/gpfs/arnab/sentence_encoding/results/gpt2-xl/'\n",
    "    new='layer_'+str(k)\n",
    "    path=path1+new\n",
    "\n",
    "    c11='/context_50'\n",
    "    c22='/context_10'\n",
    "\n",
    "    c1=path+c11\n",
    "    c2=path+c22\n",
    "    \n",
    "    os.mkdir(path)\n",
    "\n",
    "    os.mkdir(c1)\n",
    "    os.mkdir(c2)\n"
   ]
  },
  {
   "cell_type": "code",
   "execution_count": 5,
   "id": "ddf5a087-3a4c-4819-a83b-75a26c3a18a1",
   "metadata": {},
   "outputs": [
    {
     "data": {
      "text/plain": [
       "'/scratch/gpfs/arnab/sentence_encoding/results/gpt2-xl/layer_45'"
      ]
     },
     "execution_count": 5,
     "metadata": {},
     "output_type": "execute_result"
    }
   ],
   "source": [
    "path"
   ]
  },
  {
   "cell_type": "code",
   "execution_count": 18,
   "id": "e4f8cc89-c604-4f98-9c6c-9f0dd1eafd72",
   "metadata": {},
   "outputs": [],
   "source": [
    "layer=47\n",
    "context=50\n",
    "path1='/scratch/gpfs/arnab/sentence_encoding/results/gpt2-xl/' \n",
    "path=path1+'layer_'+str(layer)+'/context_'+str(context)+'/'\n",
    "\n",
    "\n",
    "# path='/scratch/gpfs/arnab/sentence_encoding/results/gpt2-xl/layer_48/'    \n",
    "os.chdir(path)"
   ]
  },
  {
   "cell_type": "code",
   "execution_count": 33,
   "id": "d8bd9681-1928-4fb4-8664-a10bce1da822",
   "metadata": {},
   "outputs": [
    {
     "data": {
      "text/plain": [
       "[1, 2]"
      ]
     },
     "execution_count": 33,
     "metadata": {},
     "output_type": "execute_result"
    }
   ],
   "source": [
    "list(range(1,3,1))"
   ]
  },
  {
   "cell_type": "code",
   "execution_count": 90,
   "id": "fc3de072-eddd-428b-9d66-268874eb482e",
   "metadata": {},
   "outputs": [
    {
     "name": "stdout",
     "output_type": "stream",
     "text": [
      "nan\n"
     ]
    },
    {
     "name": "stderr",
     "output_type": "stream",
     "text": [
      "/tmp/ipykernel_1056163/3149447335.py:40: RuntimeWarning: invalid value encountered in log\n",
      "  return np.sum(np.where(p != 0, p * np.log(p / q), 0))\n"
     ]
    }
   ],
   "source": [
    "mu, sigma = 10, 0.15 # mean and standard deviation\n",
    "epsilon = 0.000001\n",
    "s1 = np.random.normal(mu, sigma, 50000)\n",
    "# s1=s1/np.sum(s1)\n",
    "\n",
    "s2 = np.random.normal(mu, sigma+60, 50000)\n",
    "# s2=s2/np.sum(s2)\n",
    "print(kl_divergence(s1,s2))\n"
   ]
  },
  {
   "cell_type": "code",
   "execution_count": 92,
   "id": "3eca0141-c29d-4692-baf7-31b1c4386c0d",
   "metadata": {},
   "outputs": [
    {
     "name": "stdout",
     "output_type": "stream",
     "text": [
      "0.1513926171700081\n"
     ]
    }
   ],
   "source": [
    "a=np.histogram(s1,bins=500)[0]\n",
    "a=a/a.sum()\n",
    "\n",
    "b=np.histogram(s2,bins=500)[0]\n",
    "b=b/b.sum()\n",
    "# print(kl_divergence(a,b))\n",
    "\n",
    "ind=np.where(a==0)\n",
    "a=np.delete(a, ind)\n",
    "b=np.delete(b, ind)\n",
    "\n",
    "ind=np.where(b==0)\n",
    "a=np.delete(a, ind)\n",
    "b=np.delete(b, ind)\n",
    "\n",
    "a=a/a.sum()\n",
    "b=b/b.sum()\n",
    "\n",
    "print(kl_divergence(a,b))"
   ]
  },
  {
   "cell_type": "code",
   "execution_count": 93,
   "id": "47b0b561-0ab0-4a35-93f8-2effc00f8ea9",
   "metadata": {},
   "outputs": [
    {
     "data": {
      "text/plain": [
       "369"
      ]
     },
     "execution_count": 93,
     "metadata": {},
     "output_type": "execute_result"
    }
   ],
   "source": [
    "len(a)"
   ]
  },
  {
   "cell_type": "code",
   "execution_count": 94,
   "id": "9b224443-cb4c-45e3-b421-3cb1c868e950",
   "metadata": {},
   "outputs": [
    {
     "data": {
      "text/plain": [
       "[<matplotlib.lines.Line2D at 0x14dc588db050>]"
      ]
     },
     "execution_count": 94,
     "metadata": {},
     "output_type": "execute_result"
    },
    {
     "data": {
      "image/png": "[encoded data removed]",
      "text/plain": [
       "<Figure size 640x480 with 1 Axes>"
      ]
     },
     "metadata": {},
     "output_type": "display_data"
    }
   ],
   "source": [
    "plt.plot(a)"
   ]
  },
  {
   "cell_type": "code",
   "execution_count": null,
   "id": "baa97b8f-6087-46cf-a4db-24f710b00260",
   "metadata": {},
   "outputs": [],
   "source": []
  },
  {
   "cell_type": "code",
   "execution_count": null,
   "id": "1897a61b-eeb7-4708-8ca8-7e55cda3f647",
   "metadata": {},
   "outputs": [],
   "source": []
  },
  {
   "cell_type": "code",
   "execution_count": 68,
   "id": "f2299a0d-227b-4828-acb4-9befa8167d74",
   "metadata": {},
   "outputs": [
    {
     "name": "stdout",
     "output_type": "stream",
     "text": [
      "subject: 717\n",
      "layer: 48\n",
      "context: 10\n",
      "head: 1\n",
      "2.1167402690146084\n",
      "2.1202675191736087\n",
      "head: 3\n",
      "2.1257517156661314\n",
      "2.130743781848964\n",
      "head: 8\n",
      "2.1307257766399847\n",
      "2.1399874644743586\n",
      "head: 10\n",
      "2.1238073449898853\n",
      "2.12117877504342\n",
      "head: 11\n",
      "2.1200720640748916\n",
      "2.1119960127167916\n",
      "head: 17\n",
      "2.117233388207539\n",
      "2.1039047621209073\n",
      "head: 21\n",
      "2.1167387239521833\n",
      "2.1310085195571244\n",
      "head: 22\n",
      "2.1162932705758646\n",
      "2.136834101702667\n",
      "head: 24\n",
      "2.058175376008366\n",
      "2.133848413832867\n",
      "head: 25\n",
      "2.095109899722347\n",
      "2.159137833331011\n",
      "2.11206478288518\n",
      "2.1288907183801724\n"
     ]
    }
   ],
   "source": [
    "import random \n",
    "df=pd.DataFrame()\n",
    "np.random.seed(500)\n",
    "contexts=[10]\n",
    "layers=list(range(48,49,1))\n",
    "heads=[1,3,8,10,11,17,21,22,24,25]###np.arange(1,26)\n",
    "\n",
    "###[1,3,8,10,11,17,21,22,24,25] for layer 48 seed 500\n",
    "\n",
    "##[1,3,4,10,14,16,22,] \n",
    "start=4000\n",
    "k=0\n",
    "# loss = torch.nn.CrossEntropyLoss()\n",
    "onsets, words, index=load_word()\n",
    "Y=load_ecog(onsets)\n",
    "\n",
    "for layer in layers:\n",
    "    print('layer:',layer)\n",
    "    for context in contexts: \n",
    "        \n",
    "        word_embeddings=load_embeddings(index, context, layer)\n",
    "        \n",
    "        sentence,sliding_error,original_error,corr=sliding_window(start, context,Y,word_embeddings,words)\n",
    "\n",
    "        print('context:',context)\n",
    "\n",
    "       \n",
    "        \n",
    "        \n",
    "        # head_kl1=[]\n",
    "        # head_cross_entropy1=[]\n",
    "\n",
    "        a1=[]\n",
    "        a2=[]\n",
    "        a3=[]\n",
    "        a4=[]\n",
    "        \n",
    "        for head in heads:\n",
    "            name='attention_gpt2-xl_layer_'+str(layer)+'_head_'+str(head)+'_context_'+str(context)+'.pkl'\n",
    "            \n",
    "            pickle_file_path='/scratch/gpfs/arnab/sentence_encoding/results/gpt2-xl/layer_'+str(layer)+'/context_'+str(context)+'/'+name\n",
    "            df_attn=load_pickle(pickle_file_path)\n",
    "            attn=df_attn['attention_mask']\n",
    "            \n",
    "            spearman_corr_score=[]\n",
    "            pearson_corr_score=[]\n",
    "            output=[]\n",
    "            kl=[]\n",
    "            wassertain=[]\n",
    "            \n",
    "            \n",
    "            \n",
    "            corr_error_ecog=[]\n",
    "            corr_error_random=[]\n",
    "\n",
    "            attn_error=[]\n",
    "            random_error=[]\n",
    "            corr_error_ecog=[]\n",
    "            corr_error_random=[]\n",
    "            # elec=0,4,6,7\n",
    "            elec=8\n",
    "            # elec=[3, 4, 5, 7, 9, 12, 13, 14, 16, 17, 18, 26, 30, 34, 36, 37, 39, 40, 41, 42]\n",
    "            elec=[ 0,  2, 10, 13, 15, 16, 17, 19, 20, 28, 29, 33, 34, 36, 41, 42]\n",
    "            # elec=list(range(0,43,1))\n",
    "            \n",
    "            for sentence in range(len(attn)):\n",
    "                x1=attn[sentence] ##attention mask\n",
    "                # x1=softmax(x1)\n",
    "                x1=x1/np.sum(x1)\n",
    "\n",
    "                secondMax,MaxVal = sorted(x1)[-2:]\n",
    "                index_max = np.where(x1==MaxVal)\n",
    "                index_secondMax = np.where(x1==secondMax)\n",
    "\n",
    "                random=np.random.randint(0,context-1,size=1)\n",
    "\n",
    "                attn_error1=[]\n",
    "                random_error1=[]\n",
    "      \n",
    "                for elec1 in  elec:#range(1):#  range(np.shape(Y)[1]):\n",
    "                \n",
    "                    # x2 = original_error[sentence].mean(axis=1)  ##average of all the electrodes  \n",
    "                    x2 = original_error[sentence][:,elec1]  ##selected electrode\n",
    "                    x2=x2/x2[-1]\n",
    "\n",
    "                    x2=np.where(x2>5,5,x2)\n",
    "    \n",
    "                    bb=x2[index_max] #+x2[index_secondMax]/2\n",
    "                    bb=bb #/x2[-1]\n",
    "    \n",
    "                    x3=corr[sentence]\n",
    "    \n",
    "                    attn_error1.append(bb)\n",
    "                    random_error1.append(x2[random].mean())\n",
    "                    # corr_error_random.append(x3[random].mean())\n",
    "                    # corr_error_ecog.append(x3[index_max])\n",
    "\n",
    "                attn_error.append(np.mean(attn_error1))\n",
    "                random_error.append(np.mean(random_error1))\n",
    "\n",
    "                df.loc[k,'layer']=layer\n",
    "                df.loc[k,'head']=head\n",
    "                df.loc[k,'error']=np.mean(attn_error1)\n",
    "                df.loc[k,'context']='attn'\n",
    "\n",
    "                k=k+1\n",
    "\n",
    "                df.loc[k,'layer']=layer\n",
    "                df.loc[k,'head']=head\n",
    "                df.loc[k,'error']=np.mean(random_error1)\n",
    "                df.loc[k,'context']='random'\n",
    "\n",
    "                k=k+1\n",
    "            \n",
    "            # print('head:',head)\n",
    "            # print('attn_error:',np.mean(attn_error))\n",
    "            # print('random_error:',np.mean(random_error))\n",
    "\n",
    "            a1.append(np.mean(attn_error))\n",
    "            a2.append(np.mean(random_error))\n",
    "            # a3.append(np.mean(corr_error_ecog))\n",
    "            # a4.append(np.mean(corr_error_random))\n",
    "            print('head:',head)\n",
    "            print(np.mean(attn_error))            \n",
    "            print(np.mean(random_error))\n",
    "            # print(np.mean(a3))\n",
    "            # print(np.mean(a4))\n",
    "\n",
    "            \n",
    "                                       \n",
    "        \n",
    "        \n",
    "            \n",
    "        # print(np.mean(pearson_corr_score))\n",
    "        # print(np.mean(spearman_corr_score))\n",
    "        \n",
    "            \n",
    "            # print(np.corrcoef(a1,a2)[0,1])\n",
    "            # print(stats.spearmanr(a1, a2).statistic)\n",
    "            # head_cross_entropy1.append(np.mean(output))  \n",
    "            # # print(np.std(output))  \n",
    "            # head_kl1.append(np.mean(kl))\n",
    "        \n",
    "            # df_head.loc[k,'layer']=layer\n",
    "            # df_head.loc[k,'head_kl']=np.mean(kl)\n",
    "            # # df_head.loc[k,'cross_entropy']=np.mean(output)\n",
    "            # df_head.loc[k,'context']=context\n",
    "            # # df_head.loc[k,'wassertain']=np.mean(wassertain)\n",
    "            # k=k+\n",
    "# ind=[3, 4, 5, 7, 9, 12, 13, 14, 16, 17, 18, 26, 30, 34, 36, 37, 39, 40, 41, 42]\n",
    "# df=pd.DataFrame()\n",
    "# df['attn']=attn_error1\n",
    "# df['random']=random_error1\n",
    "# df['compare']= np.where((df['attn'] < df['random']), 1, 0)\n",
    "# df['compare'].sum()\n",
    "\n",
    "print(np.mean(a1))\n",
    "print(np.mean(a2))    "
   ]
  },
  {
   "cell_type": "code",
   "execution_count": 69,
   "id": "3901e147-e2ad-4f0b-90c9-3553cbb66700",
   "metadata": {},
   "outputs": [
    {
     "data": {
      "image/png": "[encoded data removed]",
      "text/plain": [
       "<Figure size 640x480 with 1 Axes>"
      ]
     },
     "metadata": {},
     "output_type": "display_data"
    }
   ],
   "source": [
    "snsplt = sns.lineplot(\n",
    "    data=df, #loc[df_head.context==10],\n",
    "    x=\"head\",\n",
    "    y=\"error\",\n",
    "    hue=\"context\",\n",
    "    marker=\"o\",\n",
    "    markersize=10,\n",
    "    # alpha = 0.5,\n",
    "    \n",
    "    linestyle='',\n",
    "    err_style='bars',\n",
    "    errorbar=\"se\",)\n",
    "    # hue_order=[\"gpt2\",\"llama2\",\"opt\",\"gpt-neo\",\"llama2-q\",\"opt-q\"]\n",
    "    # hue_order=[\"gpt2\",\"llama2-q\",\"opt-q\",\"gpt-neo\"]\n",
    "\n",
    "\n",
    "\n",
    "\n",
    "fig = snsplt.get_figure()\n",
    "fig.savefig(\"/scratch/gpfs/arnab/sentence_encoding/head_error_layer_48.png\",dpi=600) \n",
    "plt.show()"
   ]
  },
  {
   "cell_type": "code",
   "execution_count": 322,
   "id": "040af4e6-60e8-499f-9b58-9220e6f58d53",
   "metadata": {},
   "outputs": [
    {
     "data": {
      "text/html": [
       "<div>\n",
       "<style scoped>\n",
       "    .dataframe tbody tr th:only-of-type {\n",
       "        vertical-align: middle;\n",
       "    }\n",
       "\n",
       "    .dataframe tbody tr th {\n",
       "        vertical-align: top;\n",
       "    }\n",
       "\n",
       "    .dataframe thead th {\n",
       "        text-align: right;\n",
       "    }\n",
       "</style>\n",
       "<table border=\"1\" class=\"dataframe\">\n",
       "  <thead>\n",
       "    <tr style=\"text-align: right;\">\n",
       "      <th></th>\n",
       "      <th>layer</th>\n",
       "      <th>head</th>\n",
       "      <th>error</th>\n",
       "      <th>context</th>\n",
       "    </tr>\n",
       "  </thead>\n",
       "  <tbody>\n",
       "    <tr>\n",
       "      <th>0</th>\n",
       "      <td>1.0</td>\n",
       "      <td>1.0</td>\n",
       "      <td>1514.366890</td>\n",
       "      <td>attn</td>\n",
       "    </tr>\n",
       "    <tr>\n",
       "      <th>1</th>\n",
       "      <td>1.0</td>\n",
       "      <td>1.0</td>\n",
       "      <td>2879.981297</td>\n",
       "      <td>random</td>\n",
       "    </tr>\n",
       "    <tr>\n",
       "      <th>2</th>\n",
       "      <td>1.0</td>\n",
       "      <td>1.0</td>\n",
       "      <td>2588.604420</td>\n",
       "      <td>attn</td>\n",
       "    </tr>\n",
       "    <tr>\n",
       "      <th>3</th>\n",
       "      <td>1.0</td>\n",
       "      <td>1.0</td>\n",
       "      <td>5176.912065</td>\n",
       "      <td>random</td>\n",
       "    </tr>\n",
       "    <tr>\n",
       "      <th>4</th>\n",
       "      <td>1.0</td>\n",
       "      <td>1.0</td>\n",
       "      <td>5393.616410</td>\n",
       "      <td>attn</td>\n",
       "    </tr>\n",
       "    <tr>\n",
       "      <th>...</th>\n",
       "      <td>...</td>\n",
       "      <td>...</td>\n",
       "      <td>...</td>\n",
       "      <td>...</td>\n",
       "    </tr>\n",
       "    <tr>\n",
       "      <th>16427</th>\n",
       "      <td>4.0</td>\n",
       "      <td>2.0</td>\n",
       "      <td>2606.519158</td>\n",
       "      <td>random</td>\n",
       "    </tr>\n",
       "    <tr>\n",
       "      <th>16428</th>\n",
       "      <td>4.0</td>\n",
       "      <td>2.0</td>\n",
       "      <td>2028.973439</td>\n",
       "      <td>attn</td>\n",
       "    </tr>\n",
       "    <tr>\n",
       "      <th>16429</th>\n",
       "      <td>4.0</td>\n",
       "      <td>2.0</td>\n",
       "      <td>2085.901172</td>\n",
       "      <td>random</td>\n",
       "    </tr>\n",
       "    <tr>\n",
       "      <th>16430</th>\n",
       "      <td>4.0</td>\n",
       "      <td>2.0</td>\n",
       "      <td>2294.357274</td>\n",
       "      <td>attn</td>\n",
       "    </tr>\n",
       "    <tr>\n",
       "      <th>16431</th>\n",
       "      <td>4.0</td>\n",
       "      <td>2.0</td>\n",
       "      <td>1448.025294</td>\n",
       "      <td>random</td>\n",
       "    </tr>\n",
       "  </tbody>\n",
       "</table>\n",
       "<p>16432 rows × 4 columns</p>\n",
       "</div>"
      ],
      "text/plain": [
       "       layer  head        error context\n",
       "0        1.0   1.0  1514.366890    attn\n",
       "1        1.0   1.0  2879.981297  random\n",
       "2        1.0   1.0  2588.604420    attn\n",
       "3        1.0   1.0  5176.912065  random\n",
       "4        1.0   1.0  5393.616410    attn\n",
       "...      ...   ...          ...     ...\n",
       "16427    4.0   2.0  2606.519158  random\n",
       "16428    4.0   2.0  2028.973439    attn\n",
       "16429    4.0   2.0  2085.901172  random\n",
       "16430    4.0   2.0  2294.357274    attn\n",
       "16431    4.0   2.0  1448.025294  random\n",
       "\n",
       "[16432 rows x 4 columns]"
      ]
     },
     "execution_count": 322,
     "metadata": {},
     "output_type": "execute_result"
    }
   ],
   "source": [
    "df"
   ]
  },
  {
   "cell_type": "code",
   "execution_count": 71,
   "id": "87df4d40-7ee7-42b2-83d9-f534d45e833c",
   "metadata": {},
   "outputs": [
    {
     "data": {
      "text/plain": [
       "449"
      ]
     },
     "execution_count": 71,
     "metadata": {},
     "output_type": "execute_result"
    }
   ],
   "source": [
    "df=pd.DataFrame()\n",
    "df['attn']=attn_error\n",
    "df['random']=random_error\n",
    "df['compare']= np.where((df['attn'] < df['random']), 1, 0)\n",
    "# df.loc[df['compare']==1].index\n",
    "df['compare'].sum()"
   ]
  },
  {
   "cell_type": "code",
   "execution_count": 35,
   "id": "cc6d4cc3-621e-4303-82d5-48f6838df9ee",
   "metadata": {},
   "outputs": [
    {
     "data": {
      "image/png": "[encoded data removed]",
      "text/plain": [
       "<Figure size 640x480 with 1 Axes>"
      ]
     },
     "metadata": {},
     "output_type": "display_data"
    }
   ],
   "source": [
    "boxplot = df.boxplot(column=['attn', 'random'])"
   ]
  },
  {
   "cell_type": "code",
   "execution_count": 20,
   "id": "dd797e7d-2806-43bc-8bd3-2ed10a2118d7",
   "metadata": {},
   "outputs": [
    {
     "name": "stdout",
     "output_type": "stream",
     "text": [
      "subject: 717\n",
      "layer: 48\n",
      "context: 10\n"
     ]
    }
   ],
   "source": [
    "df_corr=pd.DataFrame()\n",
    "contexts=[10]\n",
    "layers=[48]#list(range(1,48,1))\n",
    "heads=np.arange(1,26)\n",
    "\n",
    "#### for layer 48, heads [1,3,4,10,14,22,]\n",
    "\n",
    "start=4000\n",
    "k=0\n",
    "# loss = torch.nn.CrossEntropyLoss()\n",
    "onsets, words, index=load_word()\n",
    "Y=load_ecog(onsets)\n",
    "\n",
    "for layer in layers:\n",
    "    print('layer:',layer)\n",
    "    for context in contexts: \n",
    "        \n",
    "        word_embeddings=load_embeddings(index, context, layer)\n",
    "        \n",
    "        sentence,sliding_error,original_error,corr=sliding_window(start, context,Y,word_embeddings,words)\n",
    "\n",
    "        print('context:',context)\n",
    "        \n",
    "       \n",
    "\n",
    "        # head_kl1=[]\n",
    "        # head_cross_entropy1=[]\n",
    "\n",
    "        \n",
    "        for head in heads:\n",
    "            name='attention_gpt2-xl_layer_'+str(layer)+'_head_'+str(head)+'_context_'+str(context)+'.pkl'\n",
    "            \n",
    "            pickle_file_path='/scratch/gpfs/arnab/sentence_encoding/results/gpt2-xl/layer_'+str(layer)+'/context_'+str(context)+'/'+name\n",
    "            df_attn=load_pickle(pickle_file_path)\n",
    "            attn=df_attn['attention_mask']\n",
    "            \n",
    "            a1=[]\n",
    "            a2=[]\n",
    "            \n",
    "            \n",
    "            elec=36\n",
    "            \n",
    "            for sentence in range(len(attn)):\n",
    "                x1=attn[sentence] ##attention mask\n",
    "                # x1=softmax(x1)\n",
    "                x1=x1/np.sum(x1)\n",
    "\n",
    "            \n",
    "                a1.extend(x1)\n",
    "                \n",
    "                x2 = sliding_error[sentence].mean(axis=1)  ##average of all the electrodes  \n",
    "                # x2 = sliding_error[sentence][:,elec]  ##selected electrode\n",
    "            \n",
    "                a2.extend(x2)   \n",
    "\n",
    "            ind4=np.where(np.asarray(a1)>0.6)[-1]\n",
    "            a1=np.asarray(a1)\n",
    "            a2=np.asarray(a2)\n",
    "\n",
    "            if len(ind4)>20:\n",
    "                  \n",
    "                df_corr.loc[k,'layer']=layer\n",
    "                df_corr.loc[k,'head']=head\n",
    "                df_corr.loc[k,'corr']=scipy.stats.pearsonr(a1[ind4],a2[ind4])[0]\n",
    "                df_corr.loc[k,'context']=context\n",
    "                df_corr.loc[k,'len']=len(ind4)\n",
    "                # df_head.loc[k,'wassertain']=np.mean(wassertain)\n",
    "                del a1\n",
    "                del a2\n",
    "                del ind4\n",
    "                k=k+1\n",
    "                \n",
    "\n"
   ]
  },
  {
   "cell_type": "code",
   "execution_count": 21,
   "id": "745b5b21-bb27-4dad-bbd9-e1355f9624b6",
   "metadata": {},
   "outputs": [
    {
     "data": {
      "text/html": [
       "<div>\n",
       "<style scoped>\n",
       "    .dataframe tbody tr th:only-of-type {\n",
       "        vertical-align: middle;\n",
       "    }\n",
       "\n",
       "    .dataframe tbody tr th {\n",
       "        vertical-align: top;\n",
       "    }\n",
       "\n",
       "    .dataframe thead th {\n",
       "        text-align: right;\n",
       "    }\n",
       "</style>\n",
       "<table border=\"1\" class=\"dataframe\">\n",
       "  <thead>\n",
       "    <tr style=\"text-align: right;\">\n",
       "      <th></th>\n",
       "      <th>layer</th>\n",
       "      <th>head</th>\n",
       "      <th>corr</th>\n",
       "      <th>context</th>\n",
       "      <th>len</th>\n",
       "    </tr>\n",
       "  </thead>\n",
       "  <tbody>\n",
       "    <tr>\n",
       "      <th>0</th>\n",
       "      <td>48.0</td>\n",
       "      <td>1.0</td>\n",
       "      <td>0.125414</td>\n",
       "      <td>10.0</td>\n",
       "      <td>28.0</td>\n",
       "    </tr>\n",
       "    <tr>\n",
       "      <th>1</th>\n",
       "      <td>48.0</td>\n",
       "      <td>2.0</td>\n",
       "      <td>-0.083849</td>\n",
       "      <td>10.0</td>\n",
       "      <td>36.0</td>\n",
       "    </tr>\n",
       "    <tr>\n",
       "      <th>2</th>\n",
       "      <td>48.0</td>\n",
       "      <td>3.0</td>\n",
       "      <td>0.213878</td>\n",
       "      <td>10.0</td>\n",
       "      <td>21.0</td>\n",
       "    </tr>\n",
       "    <tr>\n",
       "      <th>3</th>\n",
       "      <td>48.0</td>\n",
       "      <td>4.0</td>\n",
       "      <td>0.138542</td>\n",
       "      <td>10.0</td>\n",
       "      <td>56.0</td>\n",
       "    </tr>\n",
       "    <tr>\n",
       "      <th>4</th>\n",
       "      <td>48.0</td>\n",
       "      <td>5.0</td>\n",
       "      <td>-0.137515</td>\n",
       "      <td>10.0</td>\n",
       "      <td>77.0</td>\n",
       "    </tr>\n",
       "    <tr>\n",
       "      <th>5</th>\n",
       "      <td>48.0</td>\n",
       "      <td>6.0</td>\n",
       "      <td>0.050103</td>\n",
       "      <td>10.0</td>\n",
       "      <td>164.0</td>\n",
       "    </tr>\n",
       "    <tr>\n",
       "      <th>6</th>\n",
       "      <td>48.0</td>\n",
       "      <td>8.0</td>\n",
       "      <td>0.012162</td>\n",
       "      <td>10.0</td>\n",
       "      <td>99.0</td>\n",
       "    </tr>\n",
       "    <tr>\n",
       "      <th>7</th>\n",
       "      <td>48.0</td>\n",
       "      <td>9.0</td>\n",
       "      <td>-0.010427</td>\n",
       "      <td>10.0</td>\n",
       "      <td>442.0</td>\n",
       "    </tr>\n",
       "    <tr>\n",
       "      <th>8</th>\n",
       "      <td>48.0</td>\n",
       "      <td>10.0</td>\n",
       "      <td>0.426127</td>\n",
       "      <td>10.0</td>\n",
       "      <td>24.0</td>\n",
       "    </tr>\n",
       "    <tr>\n",
       "      <th>9</th>\n",
       "      <td>48.0</td>\n",
       "      <td>11.0</td>\n",
       "      <td>-0.025378</td>\n",
       "      <td>10.0</td>\n",
       "      <td>44.0</td>\n",
       "    </tr>\n",
       "    <tr>\n",
       "      <th>10</th>\n",
       "      <td>48.0</td>\n",
       "      <td>12.0</td>\n",
       "      <td>-0.101606</td>\n",
       "      <td>10.0</td>\n",
       "      <td>68.0</td>\n",
       "    </tr>\n",
       "    <tr>\n",
       "      <th>11</th>\n",
       "      <td>48.0</td>\n",
       "      <td>14.0</td>\n",
       "      <td>0.088683</td>\n",
       "      <td>10.0</td>\n",
       "      <td>181.0</td>\n",
       "    </tr>\n",
       "    <tr>\n",
       "      <th>12</th>\n",
       "      <td>48.0</td>\n",
       "      <td>15.0</td>\n",
       "      <td>-0.046692</td>\n",
       "      <td>10.0</td>\n",
       "      <td>183.0</td>\n",
       "    </tr>\n",
       "    <tr>\n",
       "      <th>13</th>\n",
       "      <td>48.0</td>\n",
       "      <td>16.0</td>\n",
       "      <td>0.214603</td>\n",
       "      <td>10.0</td>\n",
       "      <td>50.0</td>\n",
       "    </tr>\n",
       "    <tr>\n",
       "      <th>14</th>\n",
       "      <td>48.0</td>\n",
       "      <td>17.0</td>\n",
       "      <td>-0.115474</td>\n",
       "      <td>10.0</td>\n",
       "      <td>60.0</td>\n",
       "    </tr>\n",
       "    <tr>\n",
       "      <th>15</th>\n",
       "      <td>48.0</td>\n",
       "      <td>18.0</td>\n",
       "      <td>-0.016053</td>\n",
       "      <td>10.0</td>\n",
       "      <td>324.0</td>\n",
       "    </tr>\n",
       "    <tr>\n",
       "      <th>16</th>\n",
       "      <td>48.0</td>\n",
       "      <td>19.0</td>\n",
       "      <td>-0.050573</td>\n",
       "      <td>10.0</td>\n",
       "      <td>103.0</td>\n",
       "    </tr>\n",
       "    <tr>\n",
       "      <th>17</th>\n",
       "      <td>48.0</td>\n",
       "      <td>20.0</td>\n",
       "      <td>-0.230213</td>\n",
       "      <td>10.0</td>\n",
       "      <td>39.0</td>\n",
       "    </tr>\n",
       "    <tr>\n",
       "      <th>18</th>\n",
       "      <td>48.0</td>\n",
       "      <td>21.0</td>\n",
       "      <td>-0.204479</td>\n",
       "      <td>10.0</td>\n",
       "      <td>68.0</td>\n",
       "    </tr>\n",
       "    <tr>\n",
       "      <th>19</th>\n",
       "      <td>48.0</td>\n",
       "      <td>22.0</td>\n",
       "      <td>0.149837</td>\n",
       "      <td>10.0</td>\n",
       "      <td>29.0</td>\n",
       "    </tr>\n",
       "    <tr>\n",
       "      <th>20</th>\n",
       "      <td>48.0</td>\n",
       "      <td>23.0</td>\n",
       "      <td>-0.008362</td>\n",
       "      <td>10.0</td>\n",
       "      <td>636.0</td>\n",
       "    </tr>\n",
       "    <tr>\n",
       "      <th>21</th>\n",
       "      <td>48.0</td>\n",
       "      <td>24.0</td>\n",
       "      <td>-0.016813</td>\n",
       "      <td>10.0</td>\n",
       "      <td>281.0</td>\n",
       "    </tr>\n",
       "    <tr>\n",
       "      <th>22</th>\n",
       "      <td>48.0</td>\n",
       "      <td>25.0</td>\n",
       "      <td>0.049820</td>\n",
       "      <td>10.0</td>\n",
       "      <td>89.0</td>\n",
       "    </tr>\n",
       "  </tbody>\n",
       "</table>\n",
       "</div>"
      ],
      "text/plain": [
       "    layer  head      corr  context    len\n",
       "0    48.0   1.0  0.125414     10.0   28.0\n",
       "1    48.0   2.0 -0.083849     10.0   36.0\n",
       "2    48.0   3.0  0.213878     10.0   21.0\n",
       "3    48.0   4.0  0.138542     10.0   56.0\n",
       "4    48.0   5.0 -0.137515     10.0   77.0\n",
       "5    48.0   6.0  0.050103     10.0  164.0\n",
       "6    48.0   8.0  0.012162     10.0   99.0\n",
       "7    48.0   9.0 -0.010427     10.0  442.0\n",
       "8    48.0  10.0  0.426127     10.0   24.0\n",
       "9    48.0  11.0 -0.025378     10.0   44.0\n",
       "10   48.0  12.0 -0.101606     10.0   68.0\n",
       "11   48.0  14.0  0.088683     10.0  181.0\n",
       "12   48.0  15.0 -0.046692     10.0  183.0\n",
       "13   48.0  16.0  0.214603     10.0   50.0\n",
       "14   48.0  17.0 -0.115474     10.0   60.0\n",
       "15   48.0  18.0 -0.016053     10.0  324.0\n",
       "16   48.0  19.0 -0.050573     10.0  103.0\n",
       "17   48.0  20.0 -0.230213     10.0   39.0\n",
       "18   48.0  21.0 -0.204479     10.0   68.0\n",
       "19   48.0  22.0  0.149837     10.0   29.0\n",
       "20   48.0  23.0 -0.008362     10.0  636.0\n",
       "21   48.0  24.0 -0.016813     10.0  281.0\n",
       "22   48.0  25.0  0.049820     10.0   89.0"
      ]
     },
     "execution_count": 21,
     "metadata": {},
     "output_type": "execute_result"
    }
   ],
   "source": [
    "df_corr "
   ]
  },
  {
   "cell_type": "code",
   "execution_count": 99,
   "id": "74286863-1553-48a4-865f-693f8d82bdd4",
   "metadata": {},
   "outputs": [
    {
     "data": {
      "text/plain": [
       "array([269.85092636])"
      ]
     },
     "execution_count": 99,
     "metadata": {},
     "output_type": "execute_result"
    }
   ],
   "source": [
    "x2[index_max]"
   ]
  },
  {
   "cell_type": "code",
   "execution_count": 97,
   "id": "5fbc2c09-7686-4d09-9714-4bb6c9b9ddf3",
   "metadata": {},
   "outputs": [
    {
     "data": {
      "text/plain": [
       "array([3.31466321e+03, 4.42245902e+03, 3.42042611e-01, 3.12247464e+03,\n",
       "       6.35490939e+02, 3.58846180e+02, 5.72367259e+02, 2.69850926e+02,\n",
       "       3.09309095e+03, 3.19568560e+03])"
      ]
     },
     "execution_count": 97,
     "metadata": {},
     "output_type": "execute_result"
    }
   ],
   "source": [
    "x2"
   ]
  },
  {
   "cell_type": "code",
   "execution_count": null,
   "id": "16df3414-5a8d-4261-8610-290d266aebbd",
   "metadata": {},
   "outputs": [],
   "source": []
  },
  {
   "cell_type": "code",
   "execution_count": null,
   "id": "e5d8a1f8-506f-476d-a95f-3c6a530fcd3f",
   "metadata": {},
   "outputs": [],
   "source": []
  },
  {
   "cell_type": "code",
   "execution_count": null,
   "id": "562c1702-12a6-401b-ba1f-56bcfebd2bf1",
   "metadata": {},
   "outputs": [],
   "source": []
  },
  {
   "cell_type": "markdown",
   "id": "a5e09e80-617b-4261-8ff3-179b103abf83",
   "metadata": {},
   "source": [
    "## Plotting"
   ]
  },
  {
   "cell_type": "code",
   "execution_count": 2,
   "id": "bfbc2d15-6f04-4a2d-9f42-02bce7350ab3",
   "metadata": {},
   "outputs": [],
   "source": [
    "data=loadmat('/scratch/gpfs/arnab/sentence_encoding/results/t_n_calculation/t_5_calculation.mat')\n",
    "final_corr=data['real_sentence_final_corr']\n",
    "lags=np.squeeze(data['lags'])\n",
    "subjects=data['subjects']\n",
    "elec_num=np.squeeze(data['elec_num'])\n",
    "corr_sliding_sentence=data['sliding_sentence_t_n_717']\n",
    "             "
   ]
  },
  {
   "cell_type": "code",
   "execution_count": 173,
   "id": "af373a4c-b3c4-42af-98eb-8678d2ca291a",
   "metadata": {},
   "outputs": [
    {
     "data": {
      "text/plain": [
       "array([15, 43, 19,  8, 40, 12, 16, 31])"
      ]
     },
     "execution_count": 173,
     "metadata": {},
     "output_type": "execute_result"
    }
   ],
   "source": [
    "elec_num"
   ]
  },
  {
   "cell_type": "code",
   "execution_count": 93,
   "id": "e478e120-29d0-4a73-9468-a418b244a5f2",
   "metadata": {},
   "outputs": [
    {
     "data": {
      "image/png": "[encoded data removed]",
      "text/plain": [
       "<Figure size 640x480 with 1 Axes>"
      ]
     },
     "metadata": {},
     "output_type": "display_data"
    }
   ],
   "source": [
    "sub=1\n",
    "a1=final_corr[sub,0,:,:elec_num[sub]].mean(axis=1)\n",
    "plt.plot(lags,a1)\n",
    "plt.show()"
   ]
  },
  {
   "cell_type": "code",
   "execution_count": 146,
   "id": "436337b2-0c94-4c12-befe-438df867dd4a",
   "metadata": {},
   "outputs": [
    {
     "data": {
      "text/plain": [
       "(5, 160, 43)"
      ]
     },
     "execution_count": 146,
     "metadata": {},
     "output_type": "execute_result"
    }
   ],
   "source": [
    "np.shape(corr_sliding_sentence)"
   ]
  },
  {
   "cell_type": "code",
   "execution_count": 8,
   "id": "7448b69b-8a96-4448-91bb-65b261c4e40c",
   "metadata": {},
   "outputs": [
    {
     "data": {
      "image/png": "[encoded data removed]",
      "text/plain": [
       "<Figure size 640x480 with 1 Axes>"
      ]
     },
     "metadata": {},
     "output_type": "display_data"
    }
   ],
   "source": [
    "ind3=[ 0,  2, 10, 13, 15, 16, 17, 19, 20, 28, 29, 33, 34, 36, 41, 42]\n",
    "a1=(corr_sliding_sentence[4,:,ind3]).T\n",
    "a1=a1.mean(axis=1)\n",
    "# np.shape(a1)\n",
    "# a1[ind3].mean()\n",
    "plt.plot(lags,a1)\n",
    "plt.xlabel('lags (ms)')\n",
    "plt.ylabel('Encoding performance (r)')\n",
    "\n",
    "plt.savefig('/scratch/gpfs/arnab/sentence_encoding/results/t_n_calculation/t_n_5.png',dpi=600)\n",
    "plt.show()"
   ]
  },
  {
   "cell_type": "code",
   "execution_count": 148,
   "id": "934d32e4-80b8-420e-a419-eb12935781b4",
   "metadata": {},
   "outputs": [
    {
     "data": {
      "text/plain": [
       "(160, 43)"
      ]
     },
     "execution_count": 148,
     "metadata": {},
     "output_type": "execute_result"
    }
   ],
   "source": [
    "a1=final_corr[0,0,:,:]\n",
    "np.shape(a1)"
   ]
  },
  {
   "cell_type": "code",
   "execution_count": 106,
   "id": "f583c871-1322-4083-ad2b-5a21dc2a0e34",
   "metadata": {},
   "outputs": [
    {
     "data": {
      "image/png": "[encoded data removed]",
      "text/plain": [
       "<Figure size 640x480 with 1 Axes>"
      ]
     },
     "metadata": {},
     "output_type": "display_data"
    }
   ],
   "source": [
    "data=loadmat('/scratch/gpfs/arnab/sentence_encoding/results/t_n_calculation/t_5_mse.mat')\n",
    "mse=data['t_5_mse']\n",
    "lags=np.squeeze(data['lags'])\n",
    "\n",
    "plt.plot(lags,mse[:,1])\n",
    "plt.xlabel('lags (ms)')\n",
    "plt.ylabel('Error')\n",
    "plt.show()"
   ]
  },
  {
   "cell_type": "code",
   "execution_count": 105,
   "id": "775e2ad7-a0a4-4721-80c9-36e956b82f11",
   "metadata": {},
   "outputs": [
    {
     "data": {
      "image/png": "[encoded data removed]",
      "text/plain": [
       "<Figure size 640x480 with 1 Axes>"
      ]
     },
     "metadata": {},
     "output_type": "display_data"
    }
   ],
   "source": [
    "data=loadmat('/scratch/gpfs/arnab/sentence_encoding/results/t_n_calculation/t_5_mse_lag_0_1000.mat')\n",
    "mse=data['t_5_mse']\n",
    "lags=np.squeeze(data['lags'])\n",
    "\n",
    "plt.plot(lags,mse[:,1])\n",
    "plt.xlabel('lags (ms)')\n",
    "plt.ylabel('Error')\n",
    "plt.show()"
   ]
  },
  {
   "cell_type": "code",
   "execution_count": 66,
   "id": "fc5e56eb-8a31-4b61-bc08-36e5bb309a4d",
   "metadata": {},
   "outputs": [
    {
     "data": {
      "text/plain": [
       "array([[    0,   400, -2000]])"
      ]
     },
     "execution_count": 66,
     "metadata": {},
     "output_type": "execute_result"
    }
   ],
   "source": [
    "lags"
   ]
  },
  {
   "cell_type": "code",
   "execution_count": null,
   "id": "26a243e4-bd34-4b08-b183-2309225e1561",
   "metadata": {},
   "outputs": [],
   "source": []
  }
 ],
 "metadata": {
  "kernelspec": {
   "display_name": "torch-arnab [~/.conda/envs/torch-arnab/]",
   "language": "python",
   "name": "conda_torch-arnab"
  },
  "language_info": {
   "codemirror_mode": {
    "name": "ipython",
    "version": 3
   },
   "file_extension": ".py",
   "mimetype": "text/x-python",
   "name": "python",
   "nbconvert_exporter": "python",
   "pygments_lexer": "ipython3",
   "version": "3.12.2"
  }
 },
 "nbformat": 4,
 "nbformat_minor": 5
}
